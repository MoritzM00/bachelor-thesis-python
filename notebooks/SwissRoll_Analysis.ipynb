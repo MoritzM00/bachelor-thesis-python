{
 "cells": [
  {
   "cell_type": "code",
   "execution_count": null,
   "metadata": {},
   "outputs": [],
   "source": [
    "%load_ext autoreload\n",
    "%autoreload 2"
   ]
  },
  {
   "cell_type": "code",
   "execution_count": null,
   "metadata": {},
   "outputs": [],
   "source": [
    "from drcomp.plotting import visualize_2D_latent_space\n",
    "from drcomp.reducers import AutoEncoder\n",
    "import matplotlib.pyplot as plt\n",
    "from drcomp.utils.notebooks import get_model_for_dataset, get_dataset, get_preprocessor\n",
    "import scienceplots\n",
    "\n",
    "plt.style.use([\"science\", \"scatter\"])"
   ]
  },
  {
   "cell_type": "code",
   "execution_count": null,
   "metadata": {},
   "outputs": [],
   "source": [
    "reducers = {\n",
    "    \"AE\": None,\n",
    "    \"CAE\": None,\n",
    "    \"LLE\": None,\n",
    "    \"PCA\": None,\n",
    "    \"kPCA\": None,\n",
    "}\n",
    "dataset = \"SwissRoll\"\n",
    "root_dir = \"..\""
   ]
  },
  {
   "cell_type": "code",
   "execution_count": null,
   "metadata": {},
   "outputs": [],
   "source": [
    "X, y = get_dataset(dataset=dataset, root_dir=root_dir)\n",
    "for name in reducers.keys():\n",
    "    reducers[name] = get_model_for_dataset(\n",
    "        reducer=name, dataset=dataset, root_dir=root_dir, from_pretrained=False\n",
    "    )\n",
    "preprocessor = get_preprocessor(\n",
    "    dataset=dataset, root_dir=root_dir, from_pretrained=False\n",
    ")"
   ]
  },
  {
   "cell_type": "code",
   "execution_count": null,
   "metadata": {},
   "outputs": [],
   "source": [
    "embeddings = {}\n",
    "for name, reducer in reducers.items():\n",
    "    X_train = preprocessor.fit_transform(X)\n",
    "    embeddings[name] = reducer.fit_transform(X_train)"
   ]
  },
  {
   "cell_type": "code",
   "execution_count": null,
   "metadata": {},
   "outputs": [],
   "source": [
    "titles = [\n",
    "    \"Autoencoder\",\n",
    "    \"Contractive Autoencoder\",\n",
    "    \"Locally Linear Embedding\",\n",
    "    \"PCA\",\n",
    "    \"Kernel PCA\",\n",
    "]\n",
    "fig, axs = plt.subplots(3, 2, figsize=(5.91, 4.8))\n",
    "for i, (name, reducer) in enumerate(reducers.items()):\n",
    "    visualize_2D_latent_space(\n",
    "        embeddings[name], ax=axs.flat[i], title=titles[i], color=y, alpha=0.8, s=1\n",
    "    )\n",
    "plt.delaxes(axs[2, 1])\n",
    "plt.tight_layout()\n",
    "plt.savefig(root_dir + \"/figures/SwissRollEmbeddings.pdf\", bbox_inches=\"tight\")\n",
    "plt.show()"
   ]
  },
  {
   "cell_type": "code",
   "execution_count": null,
   "metadata": {},
   "outputs": [],
   "source": []
  }
 ],
 "metadata": {
  "kernelspec": {
   "display_name": "thesis",
   "language": "python",
   "name": "python3"
  },
  "language_info": {
   "codemirror_mode": {
    "name": "ipython",
    "version": 3
   },
   "file_extension": ".py",
   "mimetype": "text/x-python",
   "name": "python",
   "nbconvert_exporter": "python",
   "pygments_lexer": "ipython3",
   "version": "3.9.13"
  },
  "vscode": {
   "interpreter": {
    "hash": "6be29a84eb79a9d352d976989e4a991481101e9b7f1904e555bef89c75662f39"
   }
  }
 },
 "nbformat": 4,
 "nbformat_minor": 2
}
