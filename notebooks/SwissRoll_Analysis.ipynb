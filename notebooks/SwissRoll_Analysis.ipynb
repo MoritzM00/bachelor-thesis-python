{
 "cells": [
  {
   "cell_type": "code",
   "execution_count": null,
   "metadata": {},
   "outputs": [],
   "source": [
    "%load_ext autoreload\n",
    "%autoreload 2"
   ]
  },
  {
   "cell_type": "code",
   "execution_count": null,
   "metadata": {},
   "outputs": [],
   "source": [
    "from hydra import initialize, initialize_config_module, initialize_config_dir, compose\n",
    "import hydra\n",
    "from omegaconf import OmegaConf\n",
    "from drcomp.plotting import visualize_2D_latent_space\n",
    "from drcomp.reducers import AutoEncoder\n",
    "import matplotlib.pyplot as plt\n",
    "from drcomp.utils.notebooks import get_model_for_dataset, get_data_set"
   ]
  },
  {
   "cell_type": "code",
   "execution_count": null,
   "metadata": {},
   "outputs": [],
   "source": [
    "reducers = {\n",
    "    \"AE\": None,\n",
    "    \"CAE\": None,\n",
    "    \"LLE\": None,\n",
    "    \"PCA\": None,\n",
    "    \"kPCA\": None,\n",
    "}\n",
    "dataset = \"SwissRoll\""
   ]
  },
  {
   "cell_type": "code",
   "execution_count": null,
   "metadata": {},
   "outputs": [],
   "source": [
    "X = get_data_set(dataset=dataset, root_dir=\"..\")\n",
    "for name in reducers.keys():\n",
    "    reducers[name] = get_model_for_dataset(\n",
    "        reducer=name, dataset=dataset, root_dir=\"..\", use_pretrained=True\n",
    "    )"
   ]
  },
  {
   "cell_type": "code",
   "execution_count": null,
   "metadata": {},
   "outputs": [],
   "source": [
    "fig, axs = plt.subplots(1, len(reducers), figsize=(20, 5))\n",
    "for i, (name, reducer) in enumerate(reducers.items()):\n",
    "    visualize_2D_latent_space(reducer, X, ax=axs[i])\n",
    "    axs[i].set_title(name)\n",
    "plt.tight_layout()\n",
    "plt.show()"
   ]
  },
  {
   "cell_type": "code",
   "execution_count": null,
   "metadata": {},
   "outputs": [],
   "source": []
  }
 ],
 "metadata": {
  "kernelspec": {
   "display_name": "thesis",
   "language": "python",
   "name": "python3"
  },
  "language_info": {
   "codemirror_mode": {
    "name": "ipython",
    "version": 3
   },
   "file_extension": ".py",
   "mimetype": "text/x-python",
   "name": "python",
   "nbconvert_exporter": "python",
   "pygments_lexer": "ipython3",
   "version": "3.9.13"
  },
  "vscode": {
   "interpreter": {
    "hash": "6be29a84eb79a9d352d976989e4a991481101e9b7f1904e555bef89c75662f39"
   }
  }
 },
 "nbformat": 4,
 "nbformat_minor": 2
}
