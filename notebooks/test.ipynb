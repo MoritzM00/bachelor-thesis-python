{
 "cells": [
  {
   "cell_type": "code",
   "execution_count": null,
   "metadata": {},
   "outputs": [],
   "source": [
    "%load_ext autoreload\n",
    "%autoreload 2"
   ]
  },
  {
   "cell_type": "code",
   "execution_count": null,
   "metadata": {},
   "outputs": [],
   "source": [
    "from drcomp.reducers import PCA, KernelPCA, AutoEncoder\n",
    "from drcomp import estimate_intrinsic_dimension, DimensionalityReducer\n",
    "from sklearn.datasets import fetch_lfw_people\n",
    "import sklearn.manifold as manifold\n",
    "import matplotlib.pyplot as plt\n",
    "import time"
   ]
  },
  {
   "cell_type": "code",
   "execution_count": null,
   "metadata": {},
   "outputs": [],
   "source": [
    "lfw_people = fetch_lfw_people(min_faces_per_person=70, data_home=\"../data/raw\")\n",
    "image_shape = (62, 47)\n",
    "X = lfw_people.data\n",
    "X.shape"
   ]
  },
  {
   "cell_type": "code",
   "execution_count": null,
   "metadata": {},
   "outputs": [],
   "source": [
    "intrinsic_dim = estimate_intrinsic_dimension(X)\n",
    "intrinsic_dim"
   ]
  },
  {
   "cell_type": "code",
   "execution_count": null,
   "metadata": {},
   "outputs": [],
   "source": [
    "tsne = manifold.TSNE(\n",
    "    n_components=intrinsic_dim, perplexity=30, n_iter=1000, method=\"exact\"\n",
    ")\n",
    "mds = manifold.MDS(n_components=intrinsic_dim, n_init=1, max_iter=100)\n",
    "isomap = manifold.Isomap(n_components=intrinsic_dim, n_neighbors=10)\n",
    "\n",
    "n_neighbors = 15\n",
    "lle = manifold.LocallyLinearEmbedding(\n",
    "    method=\"standard\", n_neighbors=n_neighbors, n_components=intrinsic_dim\n",
    ")"
   ]
  },
  {
   "cell_type": "code",
   "execution_count": null,
   "metadata": {},
   "outputs": [],
   "source": [
    "models = [mds, isomap, lle]  # tsne,"
   ]
  },
  {
   "cell_type": "code",
   "execution_count": null,
   "metadata": {},
   "outputs": [],
   "source": [
    "for model in models:\n",
    "    print(model.__class__.__name__)\n",
    "    start = time.time()\n",
    "    model.fit(X)\n",
    "    end = time.time()\n",
    "    print(\"Fit Time: \", end - start)"
   ]
  },
  {
   "cell_type": "code",
   "execution_count": null,
   "metadata": {},
   "outputs": [],
   "source": [
    "# Y_tsne = tsne.embedding_\n",
    "Y_mds = mds.embedding_\n",
    "Y_isomap = isomap.embedding_\n",
    "Y_lle = lle.embedding_"
   ]
  },
  {
   "cell_type": "code",
   "execution_count": null,
   "metadata": {},
   "outputs": [],
   "source": [
    "manifold.trustworthiness(X, Y_tsne, n_neighbors=n_neighbors)"
   ]
  },
  {
   "cell_type": "code",
   "execution_count": null,
   "metadata": {},
   "outputs": [],
   "source": [
    "manifold.trustworthiness(X, Y_mds, n_neighbors=n_neighbors)"
   ]
  },
  {
   "cell_type": "code",
   "execution_count": null,
   "metadata": {},
   "outputs": [],
   "source": [
    "manifold.trustworthiness(X, Y_isomap, n_neighbors=n_neighbors)"
   ]
  },
  {
   "cell_type": "code",
   "execution_count": null,
   "metadata": {},
   "outputs": [],
   "source": [
    "manifold.trustworthiness(X, Y_lle, n_neighbors=n_neighbors)"
   ]
  },
  {
   "cell_type": "code",
   "execution_count": null,
   "metadata": {},
   "outputs": [],
   "source": [
    "from pyDRMetrics.pyDRMetrics import DRMetrics"
   ]
  },
  {
   "cell_type": "code",
   "execution_count": null,
   "metadata": {},
   "outputs": [],
   "source": [
    "drm_tsne = DRMetrics(X, Y_tsne)"
   ]
  },
  {
   "cell_type": "code",
   "execution_count": null,
   "metadata": {},
   "outputs": [],
   "source": [
    "drm_tsne.report()"
   ]
  },
  {
   "cell_type": "code",
   "execution_count": null,
   "metadata": {},
   "outputs": [],
   "source": [
    "drm_mds = DRMetrics(X, Y_mds)\n",
    "drm_mds.report()"
   ]
  },
  {
   "cell_type": "code",
   "execution_count": null,
   "metadata": {},
   "outputs": [],
   "source": [
    "drm_isomap = DRMetrics(X, Y_isomap)\n",
    "drm_isomap.report()"
   ]
  },
  {
   "cell_type": "code",
   "execution_count": null,
   "metadata": {},
   "outputs": [],
   "source": [
    "non_metrics_mds = manifold.MDS(n_components=intrinsic_dim, metric=False)"
   ]
  },
  {
   "cell_type": "code",
   "execution_count": null,
   "metadata": {},
   "outputs": [],
   "source": [
    "Y = non_metrics_mds.fit_transform(X)\n",
    "trustworthiness = manifold.trustworthiness(X, Y, n_neighbors=n_neighbors)"
   ]
  },
  {
   "cell_type": "code",
   "execution_count": null,
   "metadata": {},
   "outputs": [],
   "source": []
  }
 ],
 "metadata": {
  "kernelspec": {
   "display_name": "Python 3 (ipykernel)",
   "language": "python",
   "name": "python3"
  },
  "language_info": {
   "name": "python",
   "version": "3.9.13"
  },
  "vscode": {
   "interpreter": {
    "hash": "6be29a84eb79a9d352d976989e4a991481101e9b7f1904e555bef89c75662f39"
   }
  }
 },
 "nbformat": 4,
 "nbformat_minor": 2
}
