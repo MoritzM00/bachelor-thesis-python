{
 "cells": [
  {
   "cell_type": "code",
   "execution_count": null,
   "metadata": {},
   "outputs": [],
   "source": [
    "%load_ext autoreload\n",
    "%autoreload 2"
   ]
  },
  {
   "cell_type": "code",
   "execution_count": null,
   "metadata": {},
   "outputs": [],
   "source": [
    "from drcomp.reducers import PCA, AutoEncoder\n",
    "from drcomp.autoencoder import FullyConnectedAE\n",
    "from drcomp.utils.notebooks import get_dataset\n",
    "from sklearn.preprocessing import StandardScaler\n",
    "from sklearn.utils import resample\n",
    "import torch\n",
    "import torch.nn as nn\n",
    "import numpy as np\n",
    "from skorch.callbacks import EarlyStopping, LRScheduler\n",
    "from drcomp.plotting import (\n",
    "    compare_metrics,\n",
    "    plot_reconstructions,\n",
    "    visualize_2D_latent_space,\n",
    ")\n",
    "import matplotlib.pyplot as plt\n",
    "import scienceplots\n",
    "from matplotlib import offsetbox\n",
    "\n",
    "plt.style.use(\"science\")"
   ]
  },
  {
   "cell_type": "code",
   "execution_count": null,
   "metadata": {},
   "outputs": [],
   "source": [
    "X, y = get_dataset(\"FER2013\", root_dir=\".\")\n",
    "preprocessor = StandardScaler().fit(X)\n",
    "X_train = preprocessor.transform(X)"
   ]
  },
  {
   "cell_type": "code",
   "execution_count": null,
   "metadata": {},
   "outputs": [],
   "source": [
    "intrinsic_dim = 7\n",
    "img_size = height, width, channels = (48, 48, 1)\n",
    "input_size = channels * height * width"
   ]
  },
  {
   "cell_type": "code",
   "execution_count": null,
   "metadata": {},
   "outputs": [],
   "source": [
    "labels = {\n",
    "    0: \"angry\",\n",
    "    1: \"disgust\",\n",
    "    2: \"fear\",\n",
    "    3: \"happy\",\n",
    "    4: \"sad\",\n",
    "    5: \"suprise\",\n",
    "    6: \"neutral\",\n",
    "}\n",
    "labels_de = {\n",
    "    0: \"wütend\",\n",
    "    1: \"empört\",\n",
    "    2: \"ängstlich\",\n",
    "    3: \"glücklich\",\n",
    "    4: \"traurig\",\n",
    "    5: \"überrascht\",\n",
    "    6: \"neutral\",\n",
    "}"
   ]
  },
  {
   "cell_type": "code",
   "execution_count": null,
   "metadata": {},
   "outputs": [],
   "source": [
    "# plot some images\n",
    "fig, axs = plt.subplots(2, 3, figsize=(5.91, 4))\n",
    "y_labels = list(map(lambda x: labels[x], np.unique(y)))\n",
    "for label in labels:\n",
    "    idx = np.where(y == label)[0][1]\n",
    "    ax = axs.flat[label - 1]\n",
    "    ax.imshow(X[idx].reshape(height, width), cmap=\"gray\")\n",
    "    ax.set_title(labels_de[y[idx]], fontsize=11)\n",
    "    ax.axis(\"off\")\n",
    "fig.savefig(\"../figures/fer2013-images.pgf\", backend=\"pgf\")"
   ]
  },
  {
   "cell_type": "code",
   "execution_count": null,
   "metadata": {},
   "outputs": [],
   "source": [
    "def get_autoencoder(baseClass, lr=0.1, gamma=0.95):\n",
    "    callbacks = [\n",
    "        EarlyStopping(patience=10, monitor=\"valid_loss\"),\n",
    "        LRScheduler(policy=\"ExponentialLR\", gamma=gamma, monitor=\"valid_loss\"),\n",
    "    ]\n",
    "    return AutoEncoder(\n",
    "        AutoEncoderClass=baseClass,\n",
    "        criterion=nn.MSELoss,\n",
    "        optimizer=torch.optim.Adam,\n",
    "        lr=lr,\n",
    "        contractive=False,\n",
    "        callbacks=callbacks,\n",
    "        max_epochs=100,\n",
    "        batch_size=100,\n",
    "        device=\"cuda\" if torch.cuda.is_available() else \"cpu\",\n",
    "    )\n",
    "\n",
    "\n",
    "def get_base_encoder(\n",
    "    encoder_activations,\n",
    "    hidden_layer_dims,\n",
    "    tied_weights: bool = False,\n",
    "    decoder_activations=None,\n",
    "):\n",
    "    return FullyConnectedAE(\n",
    "        input_size=input_size,\n",
    "        intrinsic_dim=intrinsic_dim,\n",
    "        hidden_layer_dims=hidden_layer_dims,\n",
    "        encoder_act_fn=encoder_activations,\n",
    "        decoder_act_fn=decoder_activations,\n",
    "        include_batch_norm=False,\n",
    "        tied_weights=tied_weights,\n",
    "    )"
   ]
  },
  {
   "cell_type": "code",
   "execution_count": null,
   "metadata": {},
   "outputs": [],
   "source": [
    "models = {\n",
    "    \"PCA\": PCA(intrinsic_dim=intrinsic_dim),\n",
    "    \"Linear shallow AE\": get_autoencoder(get_base_encoder(nn.Identity, [])),\n",
    "    \"Sigmoid-linear shallow AE\": get_autoencoder(\n",
    "        get_base_encoder(nn.Sigmoid, [], decoder_activations=nn.Identity)\n",
    "    ),\n",
    "    \"Sigmoid shallow AE\": get_autoencoder(get_base_encoder(nn.Sigmoid, [])),\n",
    "    \"ReLU-linear shallow AE\": get_autoencoder(\n",
    "        get_base_encoder(nn.ReLU, [], decoder_activations=nn.Identity)\n",
    "    ),\n",
    "    \"ReLU shallow AE\": get_autoencoder(get_base_encoder(nn.ReLU, [])),\n",
    "    \"Tanh-linear shallow AE\": get_autoencoder(\n",
    "        get_base_encoder(nn.Tanh, [], decoder_activations=nn.Identity)\n",
    "    ),\n",
    "    \"Tanh shallow AE\": get_autoencoder(get_base_encoder(nn.Tanh, [])),\n",
    "}"
   ]
  },
  {
   "cell_type": "code",
   "execution_count": null,
   "metadata": {},
   "outputs": [],
   "source": [
    "embeddings = {}\n",
    "for name, model in models.items():\n",
    "    print(f\"Training {name}...\")\n",
    "    embeddings[name] = model.fit_transform(X_train.copy())\n",
    "    print(f\"Training {name} done.\")"
   ]
  },
  {
   "cell_type": "code",
   "execution_count": null,
   "metadata": {},
   "outputs": [],
   "source": [
    "def plot_weights(weights, intrinsic_dim, img_size, title=None, axs=None):\n",
    "    assert weights.shape == (\n",
    "        intrinsic_dim,\n",
    "        input_size,\n",
    "    ), f\"Weights must be of shape (intrinsic_dim, np.prod(img_size)), but got {weights.shape}.\"\n",
    "    if axs is None:\n",
    "        fig, axs = plt.subplots(2, 3, figsize=(6, 5))\n",
    "    for ax, weight in zip(axs.flat, weights):\n",
    "        ax.imshow(weight.reshape(img_size), cmap=\"gray\")\n",
    "        ax.axis(\"off\")\n",
    "    if title is not None:\n",
    "        plt.suptitle(title)"
   ]
  },
  {
   "cell_type": "code",
   "execution_count": null,
   "metadata": {},
   "outputs": [],
   "source": [
    "def get_weights(model):\n",
    "    if isinstance(model, AutoEncoder):\n",
    "        weights = model.module_.decoder[0].weight.data.cpu().numpy().T\n",
    "    elif isinstance(model, PCA):\n",
    "        weights = model.pca.components_\n",
    "    else:\n",
    "        raise ValueError(f\"Unknown model type {type(model)}\")\n",
    "    return weights"
   ]
  },
  {
   "cell_type": "code",
   "execution_count": null,
   "metadata": {},
   "outputs": [],
   "source": [
    "# plot the weights of three selected models\n",
    "plt.style.use(\"science\")\n",
    "fig = plt.figure(figsize=(5.9, 3))\n",
    "sfigs = fig.subfigures(1, 3)\n",
    "\n",
    "layout = (3, 2)\n",
    "axsL = sfigs[0].subplots(*layout)\n",
    "axsM = sfigs[1].subplots(*layout)\n",
    "axsR = sfigs[2].subplots(*layout)\n",
    "show = [\"PCA\", \"Linear shallow AE\", \"Sigmoid-linear shallow AE\"]\n",
    "plot_weights(get_weights(models[show[0]]), intrinsic_dim, img_size, axs=axsL)\n",
    "plot_weights(get_weights(models[show[1]]), intrinsic_dim, img_size, axs=axsM)\n",
    "plot_weights(get_weights(models[show[2]]), intrinsic_dim, img_size, axs=axsR)\n",
    "\n",
    "sfigs[0].text(0.52, 0.02, \"(a)\", ha=\"center\")\n",
    "sfigs[1].text(0.52, 0.02, \"(b)\", ha=\"center\")\n",
    "sfigs[2].text(0.52, 0.02, \"(c)\", ha=\"center\")\n",
    "# fig.savefig(\"../figures/weights-comparison.pgf\", backend=\"pgf\")\n",
    "plt.show()"
   ]
  },
  {
   "cell_type": "code",
   "execution_count": null,
   "metadata": {},
   "outputs": [],
   "source": [
    "import string\n",
    "\n",
    "# plot the weights of some selected models\n",
    "show = [\"PCA\", \"Linear shallow AE\", \"Sigmoid-linear shallow AE\", \"Sigmoid shallow AE\"]\n",
    "models_to_show = {name: model for name, model in models.items() if name in show}\n",
    "names = [f\"({x})\" for x in string.ascii_lowercase[: len(models_to_show)]]\n",
    "plt.style.use(\"science\")\n",
    "fig = plt.figure(figsize=(5.9, 7))\n",
    "length = len(models_to_show)\n",
    "sfigs = fig.subfigures(1, length)\n",
    "for i, model in enumerate(models_to_show.values()):\n",
    "    axs = sfigs[i].subplots(intrinsic_dim, 1)\n",
    "    sfigs[i].suptitle(names[i])\n",
    "    plot_weights(\n",
    "        get_weights(model), intrinsic_dim=intrinsic_dim, img_size=img_size, axs=axs\n",
    "    )\n",
    "# fig.savefig(\"../figures/weights-comparison.pgf\", backend=\"pgf\")\n",
    "plt.subplots_adjust(wspace=0.05, hspace=0.05)\n",
    "plt.show()"
   ]
  },
  {
   "cell_type": "code",
   "execution_count": null,
   "metadata": {},
   "outputs": [],
   "source": [
    "# display covariance matrices of transformed data\n",
    "fig, axs = plt.subplots(2, 4, figsize=(9, 6))\n",
    "for i, (name, embedding) in enumerate(embeddings.items()):\n",
    "    axs.flat[i].matshow(np.corrcoef(embedding.T), cmap=\"RdBu_r\", vmin=-1, vmax=1)\n",
    "    axs.flat[i].set_title(name)\n",
    "plt.tight_layout()"
   ]
  },
  {
   "cell_type": "code",
   "execution_count": null,
   "metadata": {},
   "outputs": [],
   "source": [
    "# display correlation matrices of transformed data (only selected methods)\n",
    "fig, axs = plt.subplots(1, 3, figsize=(5.9, 3))\n",
    "for i, (name, embedding) in enumerate(embeddings.items()):\n",
    "    if name not in show:\n",
    "        continue\n",
    "    ax = axs.flat[i]\n",
    "    ax.matshow(np.corrcoef(embedding.T), cmap=\"RdBu_r\", vmin=-1, vmax=1)\n",
    "    ax.set_xticks([])\n",
    "    ax.set_yticks([])\n",
    "    plt.text(0.5, -0.2, names[i], transform=ax.transAxes, ha=\"center\")\n",
    "fig.colorbar(axs.flat[0].images[0], ax=axs, location=\"right\", shrink=0.6)\n",
    "fig.savefig(\"../figures/correlation-matrices.pgf\", backend=\"pgf\")"
   ]
  },
  {
   "cell_type": "code",
   "execution_count": null,
   "metadata": {},
   "outputs": [],
   "source": [
    "images = resample(X, n_samples=5)\n",
    "plot_reconstructions(\n",
    "    models,\n",
    "    preprocessor=preprocessor,\n",
    "    images=images,\n",
    "    channels=channels,\n",
    "    height=height,\n",
    "    width=width,\n",
    ")\n",
    "plt.show()"
   ]
  },
  {
   "cell_type": "code",
   "execution_count": null,
   "metadata": {},
   "outputs": [],
   "source": []
  }
 ],
 "metadata": {
  "kernelspec": {
   "display_name": "Python 3 (ipykernel)",
   "language": "python",
   "name": "python3"
  },
  "language_info": {
   "codemirror_mode": {
    "name": "ipython",
    "version": 3
   },
   "file_extension": ".py",
   "mimetype": "text/x-python",
   "name": "python",
   "nbconvert_exporter": "python",
   "pygments_lexer": "ipython3",
   "version": "3.9.13"
  },
  "vscode": {
   "interpreter": {
    "hash": "6be29a84eb79a9d352d976989e4a991481101e9b7f1904e555bef89c75662f39"
   }
  }
 },
 "nbformat": 4,
 "nbformat_minor": 2
}
