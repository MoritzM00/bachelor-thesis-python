{
 "cells": [
  {
   "cell_type": "code",
   "execution_count": null,
   "metadata": {},
   "outputs": [],
   "source": [
    "%load_ext autoreload\n",
    "%autoreload 2"
   ]
  },
  {
   "cell_type": "code",
   "execution_count": null,
   "metadata": {},
   "outputs": [],
   "source": [
    "from drcomp.reducers import PCA, AutoEncoder\n",
    "from drcomp.autoencoder import FullyConnectedAE\n",
    "from drcomp.utils.notebooks import get_dataset\n",
    "from sklearn.preprocessing import StandardScaler\n",
    "from sklearn.utils import resample\n",
    "import torch\n",
    "import torch.nn as nn\n",
    "import numpy as np\n",
    "from skorch.callbacks import EarlyStopping, LRScheduler\n",
    "from drcomp.plotting import (\n",
    "    compare_metrics,\n",
    "    plot_reconstructions,\n",
    "    visualize_2D_latent_space,\n",
    ")\n",
    "import matplotlib.pyplot as plt\n",
    "import scienceplots\n",
    "from matplotlib import offsetbox"
   ]
  },
  {
   "cell_type": "code",
   "execution_count": null,
   "metadata": {},
   "outputs": [],
   "source": [
    "X, y = get_dataset(\"FER2013\", root_dir=\"..\")\n",
    "preprocessor = StandardScaler().fit(X)\n",
    "X_train = preprocessor.transform(X)"
   ]
  },
  {
   "cell_type": "code",
   "execution_count": null,
   "metadata": {},
   "outputs": [],
   "source": [
    "intrinsic_dim = 6\n",
    "img_size = height, width, channels = (48, 48, 1)\n",
    "input_size = channels * height * width"
   ]
  },
  {
   "cell_type": "code",
   "execution_count": null,
   "metadata": {},
   "outputs": [],
   "source": [
    "labels = {\n",
    "    \"angry\": 0,\n",
    "    \"disgust\": 1,\n",
    "    \"fear\": 2,\n",
    "    \"happy\": 3,\n",
    "    \"neutral\": 4,\n",
    "    \"sad\": 5,\n",
    "    \"surprise\": 6,\n",
    "}"
   ]
  },
  {
   "cell_type": "code",
   "execution_count": null,
   "metadata": {},
   "outputs": [],
   "source": [
    "def get_autoencoder(baseClass, lr=0.1, gamma=0.9):\n",
    "    callbacks = [\n",
    "        EarlyStopping(patience=10, monitor=\"valid_loss\"),\n",
    "        LRScheduler(policy=\"ExponentialLR\", gamma=gamma, monitor=\"valid_loss\"),\n",
    "    ]\n",
    "    return AutoEncoder(\n",
    "        AutoEncoderClass=baseClass,\n",
    "        criterion=nn.MSELoss,\n",
    "        optimizer=torch.optim.Adam,\n",
    "        lr=lr,\n",
    "        contractive=False,\n",
    "        callbacks=callbacks,\n",
    "        max_epochs=100,\n",
    "        batch_size=32,\n",
    "        device=\"cuda\" if torch.cuda.is_available() else \"cpu\",\n",
    "    )\n",
    "\n",
    "\n",
    "def get_base_encoder(\n",
    "    encoder_activations,\n",
    "    hidden_layer_dims,\n",
    "    tied_weights: bool = False,\n",
    "    decoder_activations=None,\n",
    "):\n",
    "    return FullyConnectedAE(\n",
    "        input_size=input_size,\n",
    "        intrinsic_dim=intrinsic_dim,\n",
    "        hidden_layer_dims=hidden_layer_dims,\n",
    "        encoder_act_fn=encoder_activations,\n",
    "        decoder_act_fn=decoder_activations,\n",
    "        include_batch_norm=False,\n",
    "        tied_weights=tied_weights,\n",
    "    )"
   ]
  },
  {
   "cell_type": "code",
   "execution_count": null,
   "metadata": {},
   "outputs": [],
   "source": [
    "models = {\n",
    "    \"PCA\": PCA(intrinsic_dim=intrinsic_dim),\n",
    "    \"Linear shallow AE\": get_autoencoder(get_base_encoder(nn.Identity, [])),\n",
    "    \"Sigmoid-linear shallow AE\": get_autoencoder(\n",
    "        get_base_encoder(nn.Sigmoid, [], decoder_activations=nn.Identity)\n",
    "    ),\n",
    "    \"Sigmoid shallow AE\": get_autoencoder(get_base_encoder(nn.Sigmoid, [])),\n",
    "    \"ReLU-linear shallow AE\": get_autoencoder(\n",
    "        get_base_encoder(nn.ReLU, [], decoder_activations=nn.Identity)\n",
    "    ),\n",
    "    \"ReLU shallow AE\": get_autoencoder(get_base_encoder(nn.ReLU, [])),\n",
    "    \"Tanh-linear shallow AE\": get_autoencoder(\n",
    "        get_base_encoder(nn.Tanh, [], decoder_activations=nn.Identity)\n",
    "    ),\n",
    "    \"Tanh shallow AE\": get_autoencoder(get_base_encoder(nn.Tanh, [])),\n",
    "}"
   ]
  },
  {
   "cell_type": "code",
   "execution_count": null,
   "metadata": {},
   "outputs": [],
   "source": [
    "embeddings = {}\n",
    "for name, model in models.items():\n",
    "    print(f\"Training {name}...\")\n",
    "    embeddings[name] = model.fit_transform(X_train)\n",
    "    print(f\"Training {name} done.\")"
   ]
  },
  {
   "cell_type": "code",
   "execution_count": null,
   "metadata": {},
   "outputs": [],
   "source": [
    "def plot_weights(weights, intrinsic_dim, title, img_size):\n",
    "    assert weights.shape == (\n",
    "        intrinsic_dim,\n",
    "        np.prod(img_size),\n",
    "    ), f\"Weights must be of shape (intrinsic_dim, np.prod(img_size)), but got {weights.shape}.\"\n",
    "    fig, axs = plt.subplots(2, 3, figsize=(6, 5))\n",
    "    for ax, weight in zip(axs.flat, weights):\n",
    "        ax.imshow(weight.reshape(img_size), cmap=\"gray\")\n",
    "        ax.axis(\"off\")\n",
    "    plt.suptitle(title)\n",
    "    plt.tight_layout()\n",
    "    plt.show()"
   ]
  },
  {
   "cell_type": "code",
   "execution_count": null,
   "metadata": {},
   "outputs": [],
   "source": [
    "# show all weights\n",
    "for name, model in models.items():\n",
    "    if isinstance(model, AutoEncoder):\n",
    "        weights = model.module_.decoder[0].weight.data.cpu().numpy().T\n",
    "    elif isinstance(model, PCA):\n",
    "        weights = model.pca.components_\n",
    "    else:\n",
    "        raise ValueError(f\"Unknown model type {type(model)}\")\n",
    "    plot_weights(weights, intrinsic_dim, f\"{name} weights\", img_size)"
   ]
  },
  {
   "cell_type": "code",
   "execution_count": null,
   "metadata": {},
   "outputs": [],
   "source": []
  }
 ],
 "metadata": {
  "kernelspec": {
   "display_name": "thesis",
   "language": "python",
   "name": "python3"
  },
  "language_info": {
   "codemirror_mode": {
    "name": "ipython",
    "version": 3
   },
   "file_extension": ".py",
   "mimetype": "text/x-python",
   "name": "python",
   "nbconvert_exporter": "python",
   "pygments_lexer": "ipython3",
   "version": "3.9.13"
  },
  "vscode": {
   "interpreter": {
    "hash": "6be29a84eb79a9d352d976989e4a991481101e9b7f1904e555bef89c75662f39"
   }
  }
 },
 "nbformat": 4,
 "nbformat_minor": 2
}
