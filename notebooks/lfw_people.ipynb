{
 "cells": [
  {
   "cell_type": "code",
   "execution_count": null,
   "metadata": {},
   "outputs": [],
   "source": [
    "%load_ext autoreload\n",
    "%autoreload 2"
   ]
  },
  {
   "cell_type": "code",
   "execution_count": null,
   "metadata": {},
   "outputs": [],
   "source": [
    "from drcomp.reducers import PCA, KernelPCA, AutoEncoder\n",
    "from drcomp.autoencoder import FullyConnectedAE\n",
    "from drcomp import estimate_intrinsic_dimension, DimensionalityReducer\n",
    "from sklearn.datasets import fetch_lfw_people\n",
    "import matplotlib.pyplot as plt\n",
    "import random"
   ]
  },
  {
   "cell_type": "code",
   "execution_count": null,
   "metadata": {},
   "outputs": [],
   "source": [
    "lfw_people = fetch_lfw_people(\n",
    "    min_faces_per_person=0,\n",
    "    color=True,\n",
    "    data_home=\"../data/raw\",\n",
    "    download_if_missing=True,\n",
    ")\n",
    "X = lfw_people.data\n",
    "X.shape"
   ]
  },
  {
   "cell_type": "code",
   "execution_count": null,
   "metadata": {},
   "outputs": [],
   "source": [
    "intrinsic_dim = estimate_intrinsic_dimension(X)\n",
    "intrinsic_dim"
   ]
  },
  {
   "cell_type": "code",
   "execution_count": null,
   "metadata": {},
   "outputs": [],
   "source": [
    "pca = PCA(intrinsic_dim)\n",
    "kpca = KernelPCA(intrinsic_dim, kernel=\"rbf\", fit_inverse_transform=True)\n",
    "base = FullyConnectedAE(\n",
    "    input_size=X.shape[1], intrinsic_dim=intrinsic_dim, hidden_layer_dims=[1024, 256]\n",
    ")\n",
    "AE = AutoEncoder(base, batch_size=16, max_epochs=10, learning_rate=1e-3)"
   ]
  },
  {
   "cell_type": "code",
   "execution_count": null,
   "metadata": {},
   "outputs": [],
   "source": [
    "reducers: list[tuple[str, DimensionalityReducer]] = [\n",
    "    (\"PCA\", pca),\n",
    "    (\"Kernel PCA\", kpca),\n",
    "    (\"AutoEncoder\", AE),\n",
    "]"
   ]
  },
  {
   "cell_type": "code",
   "execution_count": null,
   "metadata": {},
   "outputs": [],
   "source": [
    "fig, axes = plt.subplots(ncols=len(reducers) + 1, figsize=(10, 5))\n",
    "image_idx = 214\n",
    "axes[0].imshow(X[image_idx].reshape(image_shape), cmap=\"gray\")\n",
    "axes[0].set_title(\"Original Image\")\n",
    "for i, (name, reducer) in enumerate(reducers, start=1):\n",
    "    reducer.fit(X, X)\n",
    "    Y = reducer.transform(X)\n",
    "    X_hat = reducer.inverse_transform(Y)\n",
    "    axes[i].imshow(X_hat[image_idx].reshape(image_shape), cmap=\"gray\")\n",
    "    axes[i].set_title(f\"Reconstructed by {name}\")\n",
    "plt.tight_layout()\n",
    "plt.show()"
   ]
  },
  {
   "cell_type": "code",
   "execution_count": null,
   "metadata": {},
   "outputs": [],
   "source": [
    "def show_reconstruction(image_idx: int, model: DimensionalityReducer):\n",
    "    image_shape = (62, 47)\n",
    "    original = X[image_idx].reshape(image_shape)\n",
    "    reconstructed = model.inverse_transform(\n",
    "        model.transform(X[image_idx].reshape(1, -1))\n",
    "    ).reshape(image_shape)\n",
    "\n",
    "    fig, (ax1, ax2) = plt.subplots(ncols=2, figsize=(10, 5))\n",
    "    ax1.imshow(original, cmap=\"gray\")\n",
    "    ax2.imshow(reconstructed, cmap=\"gray\")\n",
    "    plt.suptitle(f\"Original vs. Reconstructed by {model.__class__.__name__}\")\n",
    "    plt.show()"
   ]
  },
  {
   "cell_type": "code",
   "execution_count": null,
   "metadata": {},
   "outputs": [],
   "source": [
    "image_idx = random.randint(0, len(X) - 1)\n",
    "for reducer in reducers:\n",
    "    show_reconstruction(image_idx, reducer[1])"
   ]
  }
 ],
 "metadata": {
  "kernelspec": {
   "display_name": "Python 3 (ipykernel)",
   "language": "python",
   "name": "python3"
  },
  "language_info": {
   "codemirror_mode": {
    "name": "ipython",
    "version": 3
   },
   "file_extension": ".py",
   "mimetype": "text/x-python",
   "name": "python",
   "nbconvert_exporter": "python",
   "pygments_lexer": "ipython3",
   "version": "3.9.13"
  },
  "vscode": {
   "interpreter": {
    "hash": "6be29a84eb79a9d352d976989e4a991481101e9b7f1904e555bef89c75662f39"
   }
  }
 },
 "nbformat": 4,
 "nbformat_minor": 2
}
