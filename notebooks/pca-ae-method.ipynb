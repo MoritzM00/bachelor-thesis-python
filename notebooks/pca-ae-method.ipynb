{
 "cells": [
  {
   "cell_type": "code",
   "execution_count": null,
   "metadata": {},
   "outputs": [],
   "source": [
    "from drcomp.reducers import PCA, AutoEncoder\n",
    "from drcomp.autoencoder import FullyConnectedAE\n",
    "from drcomp.utils.notebooks import get_dataset\n",
    "from sklearn.preprocessing import StandardScaler\n",
    "from sklearn.utils import resample\n",
    "import torch\n",
    "import torch.nn as nn\n",
    "import numpy as np\n",
    "from skorch.callbacks import EarlyStopping, LRScheduler\n",
    "from drcomp.plotting import (\n",
    "    compare_metrics,\n",
    "    plot_reconstructions,\n",
    "    visualize_2D_latent_space,\n",
    ")\n",
    "import matplotlib.pyplot as plt\n",
    "import scienceplots\n",
    "from matplotlib import offsetbox\n",
    "\n",
    "plt.style.use(\"science\")"
   ]
  },
  {
   "cell_type": "code",
   "execution_count": null,
   "metadata": {},
   "outputs": [],
   "source": [
    "X, y = get_dataset(\"MNIST\", root_dir=\"..\")\n",
    "preprocessor = StandardScaler(with_std=False).fit(X)\n",
    "X_centered = preprocessor.transform(X)"
   ]
  },
  {
   "cell_type": "code",
   "execution_count": null,
   "metadata": {},
   "outputs": [],
   "source": [
    "def get_linear_autoencoder(input_size: int, intrinsic_dim: int):\n",
    "    base = FullyConnectedAE(\n",
    "        input_size=input_size,\n",
    "        intrinsic_dim=intrinsic_dim,\n",
    "        include_batch_norm=False,\n",
    "        tied_weights=False,\n",
    "        encoder_act_fn=nn.Identity,\n",
    "    )\n",
    "    return AutoEncoder(base, max_epochs=50, lr=0.001, batch_size=128)"
   ]
  },
  {
   "cell_type": "code",
   "execution_count": null,
   "metadata": {},
   "outputs": [],
   "source": [
    "def get_weights(model):\n",
    "    if isinstance(model, AutoEncoder):\n",
    "        weights = model.module_.decoder[0].weight.data.cpu().numpy().T\n",
    "    elif isinstance(model, PCA):\n",
    "        weights = model.pca.components_\n",
    "    else:\n",
    "        raise ValueError(f\"Unknown model type {type(model)}\")\n",
    "    return weights"
   ]
  },
  {
   "cell_type": "code",
   "execution_count": null,
   "metadata": {},
   "outputs": [],
   "source": [
    "def linearAE(data, intrinsic_dim):\n",
    "    input_size = data.shape[1]\n",
    "    ae = get_linear_autoencoder(input_size, intrinsic_dim)\n",
    "    ae.fit(data)\n",
    "    weights = get_weights(ae)\n",
    "    return weights, ae\n",
    "    u, _, _ = np.linalg.svd(weights.T, full_matrices=False)\n",
    "\n",
    "    Y = u.T @ data.T\n",
    "    return u.T, Y.T, ae"
   ]
  },
  {
   "cell_type": "code",
   "execution_count": null,
   "metadata": {},
   "outputs": [],
   "source": [
    "intrinsic_dim = 16"
   ]
  },
  {
   "cell_type": "code",
   "execution_count": null,
   "metadata": {},
   "outputs": [],
   "source": [
    "def PCA_by_autoencoder(weights):\n",
    "    U, _, _ = np.linalg.svd(weights.T, full_matrices=False)\n",
    "    return U.T"
   ]
  },
  {
   "cell_type": "code",
   "execution_count": null,
   "metadata": {},
   "outputs": [],
   "source": [
    "# normal PCA\n",
    "P = PCA(intrinsic_dim=intrinsic_dim).fit(X_centered).pca.components_\n",
    "print(P.shape)"
   ]
  },
  {
   "cell_type": "code",
   "execution_count": null,
   "metadata": {},
   "outputs": [],
   "source": [
    "# PCA by autoencoder\n",
    "weights, autoencoder = linearAE(X, intrinsic_dim)\n",
    "U = PCA_by_autoencoder(weights)\n",
    "print(U.shape)"
   ]
  },
  {
   "cell_type": "code",
   "execution_count": null,
   "metadata": {},
   "outputs": [],
   "source": [
    "# regular autoencoder\n",
    "W = weights\n",
    "print(W.shape)"
   ]
  },
  {
   "cell_type": "code",
   "execution_count": null,
   "metadata": {},
   "outputs": [],
   "source": [
    "# compute embeddings\n",
    "\n",
    "embedding_pca = P @ X_centered.T\n",
    "embedding_method = U @ X_centered.T\n",
    "embedding_ae = W @ X_centered.T\n",
    "print(embedding_pca.shape)"
   ]
  },
  {
   "cell_type": "code",
   "execution_count": null,
   "metadata": {},
   "outputs": [],
   "source": [
    "cov_pca = np.cov(embedding_pca)\n",
    "cov_method = np.cov(embedding_method)\n",
    "cov_ae = np.cov(embedding_ae)"
   ]
  },
  {
   "cell_type": "code",
   "execution_count": null,
   "metadata": {},
   "outputs": [],
   "source": [
    "fig, (ax1, ax2, ax3) = plt.subplots(1, 3, figsize=(10, 5))\n",
    "m = ax1.matshow(cov_pca, cmap=\"gray\")\n",
    "ax2.matshow(cov_method, cmap=\"gray\")\n",
    "ax2.set_title(\"PCA-Autoencoder Method\")\n",
    "ax3.matshow(cov_ae, cmap=\"gray\")\n",
    "ax3.set_title(\"Autoencoder\")\n",
    "\n",
    "# fig.colorbar(m, ax=[ax1, ax2, ax3], shrink=0.7)\n",
    "plt.show()"
   ]
  },
  {
   "cell_type": "code",
   "execution_count": null,
   "metadata": {},
   "outputs": [],
   "source": [
    "indices = np.triu_indices_from(cov_method, k=1)\n",
    "mean_corr_method = np.mean(cov_method[indices])\n",
    "mean_corr_ae = np.mean(cov_ae[indices])\n",
    "print(\n",
    "    f\"Mean Correlation of the embedding by PCA-Autoencoder Method: {mean_corr_method:.4f}\"\n",
    ")\n",
    "print(f\"Mean Correlation of the embedding by regular Autoencoder: {mean_corr_ae:.4f}\")"
   ]
  },
  {
   "cell_type": "code",
   "execution_count": null,
   "metadata": {},
   "outputs": [],
   "source": []
  }
 ],
 "metadata": {
  "kernelspec": {
   "display_name": "thesis",
   "language": "python",
   "name": "python3"
  },
  "language_info": {
   "codemirror_mode": {
    "name": "ipython",
    "version": 3
   },
   "file_extension": ".py",
   "mimetype": "text/x-python",
   "name": "python",
   "nbconvert_exporter": "python",
   "pygments_lexer": "ipython3",
   "version": "3.9.13 (main, Oct 10 2022, 16:20:20) \n[Clang 14.0.0 (clang-1400.0.29.102)]"
  },
  "vscode": {
   "interpreter": {
    "hash": "6be29a84eb79a9d352d976989e4a991481101e9b7f1904e555bef89c75662f39"
   }
  }
 },
 "nbformat": 4,
 "nbformat_minor": 2
}
