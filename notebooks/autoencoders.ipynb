{
 "cells": [
  {
   "cell_type": "code",
   "execution_count": null,
   "metadata": {},
   "outputs": [],
   "source": [
    "from drcomp.autoencoder import FullyConnectedAE\n",
    "from drcomp.reducers import AutoEncoder\n",
    "from drcomp.utils.notebooks import get_dataset, get_preprocessor\n",
    "from drcomp.plotting import compare_metrics\n",
    "import torch.nn as nn\n",
    "from skorch.callbacks import EarlyStopping, LRScheduler\n",
    "import json"
   ]
  },
  {
   "cell_type": "code",
   "execution_count": null,
   "metadata": {},
   "outputs": [],
   "source": [
    "X, y = get_dataset(\"MNIST\", root_dir=\"..\")\n",
    "preprocessor = get_preprocessor(\"MNIST\", root_dir=\"..\")"
   ]
  },
  {
   "cell_type": "code",
   "execution_count": null,
   "metadata": {},
   "outputs": [],
   "source": [
    "input_size = X.shape[1]\n",
    "intrinsic_dim = 10"
   ]
  },
  {
   "cell_type": "code",
   "execution_count": null,
   "metadata": {},
   "outputs": [],
   "source": [
    "models_untied = {\n",
    "    \"Shallow linear AE\": FullyConnectedAE(\n",
    "        input_size=input_size,\n",
    "        intrinsic_dim=intrinsic_dim,\n",
    "        hidden_layer_dims=[],\n",
    "        encoder_act_fn=nn.Identity,\n",
    "    ),\n",
    "    \"Shallow sigmoid AE\": FullyConnectedAE(\n",
    "        input_size=input_size,\n",
    "        intrinsic_dim=intrinsic_dim,\n",
    "        hidden_layer_dims=[],\n",
    "        encoder_act_fn=nn.Sigmoid,\n",
    "        decoder_act_fn=nn.Identity,\n",
    "    ),\n",
    "    \"5-layer linear AE\": FullyConnectedAE(\n",
    "        input_size=input_size,\n",
    "        intrinsic_dim=intrinsic_dim,\n",
    "        hidden_layer_dims=[256],\n",
    "        encoder_act_fn=nn.Identity,\n",
    "    ),\n",
    "    \"7-layer linear AE\": FullyConnectedAE(\n",
    "        input_size=input_size,\n",
    "        intrinsic_dim=intrinsic_dim,\n",
    "        hidden_layer_dims=[256, 128],\n",
    "        encoder_act_fn=nn.Identity,\n",
    "    ),\n",
    "    \"5-layer sigmoid AE\": FullyConnectedAE(\n",
    "        input_size=input_size,\n",
    "        intrinsic_dim=intrinsic_dim,\n",
    "        hidden_layer_dims=[256],\n",
    "        encoder_act_fn=nn.Sigmoid,\n",
    "        decoder_act_fn=nn.Identity,\n",
    "    ),\n",
    "    \"7-layer sigmoid AE\": FullyConnectedAE(\n",
    "        input_size=input_size,\n",
    "        intrinsic_dim=intrinsic_dim,\n",
    "        hidden_layer_dims=[256, 128],\n",
    "        encoder_act_fn=nn.Sigmoid,\n",
    "        decoder_act_fn=nn.Identity,\n",
    "    ),\n",
    "}"
   ]
  },
  {
   "cell_type": "code",
   "execution_count": null,
   "metadata": {},
   "outputs": [],
   "source": [
    "models_tied = {\n",
    "    \"Shallow linear AE\": FullyConnectedAE(\n",
    "        input_size=input_size,\n",
    "        intrinsic_dim=intrinsic_dim,\n",
    "        hidden_layer_dims=[],\n",
    "        encoder_act_fn=nn.Identity,\n",
    "        tied_weights=True,\n",
    "    ),\n",
    "    \"Shallow sigmoid AE\": FullyConnectedAE(\n",
    "        input_size=input_size,\n",
    "        intrinsic_dim=intrinsic_dim,\n",
    "        hidden_layer_dims=[],\n",
    "        encoder_act_fn=nn.Sigmoid,\n",
    "        decoder_act_fn=nn.Identity,\n",
    "        tied_weights=True,\n",
    "    ),\n",
    "    \"5-layer linear AE\": FullyConnectedAE(\n",
    "        input_size=input_size,\n",
    "        intrinsic_dim=intrinsic_dim,\n",
    "        hidden_layer_dims=[256],\n",
    "        encoder_act_fn=nn.Identity,\n",
    "        tied_weights=True,\n",
    "    ),\n",
    "    \"7-layer linear AE\": FullyConnectedAE(\n",
    "        input_size=input_size,\n",
    "        intrinsic_dim=intrinsic_dim,\n",
    "        hidden_layer_dims=[256, 128],\n",
    "        encoder_act_fn=nn.Identity,\n",
    "        tied_weights=True,\n",
    "    ),\n",
    "    \"5-layer sigmoid AE\": FullyConnectedAE(\n",
    "        input_size=input_size,\n",
    "        intrinsic_dim=intrinsic_dim,\n",
    "        hidden_layer_dims=[256],\n",
    "        encoder_act_fn=nn.Sigmoid,\n",
    "        decoder_act_fn=nn.Identity,\n",
    "        tied_weights=True,\n",
    "    ),\n",
    "    \"7-layer sigmoid AE\": FullyConnectedAE(\n",
    "        input_size=input_size,\n",
    "        intrinsic_dim=intrinsic_dim,\n",
    "        hidden_layer_dims=[256, 128],\n",
    "        encoder_act_fn=nn.Sigmoid,\n",
    "        decoder_act_fn=nn.Identity,\n",
    "        tied_weights=True,\n",
    "    ),\n",
    "}"
   ]
  },
  {
   "cell_type": "code",
   "execution_count": null,
   "metadata": {},
   "outputs": [],
   "source": [
    "def train(model, X, y, preprocessor):\n",
    "    X_train = preprocessor.transform(X)\n",
    "    lr_scheduler = LRScheduler(policy=\"ExponentialLR\", gamma=0.98)\n",
    "    early_stopping = EarlyStopping(patience=50)\n",
    "    reducer = AutoEncoder(\n",
    "        model,\n",
    "        n_epochs=1000,\n",
    "        batch_size=250,\n",
    "        lr=0.1,\n",
    "        callbacks=[lr_scheduler, early_stopping],\n",
    "    )\n",
    "    reducer.fit(X)\n",
    "    return reducer"
   ]
  },
  {
   "cell_type": "code",
   "execution_count": null,
   "metadata": {},
   "outputs": [],
   "source": [
    "reducers = {}\n",
    "metrics = {}\n",
    "for name in models_untied:\n",
    "    print(f\"Training {name}\")\n",
    "    reducer = train(models_untied[name], X, y, preprocessor)\n",
    "    reducers[name] = reducer\n",
    "    metrics[name] = reducer.evaluate(X, max_K=100, as_builtin_list=True)\n",
    "json.dump(metrics, open(\"metrics_untied.json\", \"w\"))"
   ]
  },
  {
   "cell_type": "code",
   "execution_count": null,
   "metadata": {},
   "outputs": [],
   "source": [
    "reducers = {}\n",
    "metrics = {}\n",
    "for name in models_tied:\n",
    "    print(f\"Training {name}\")\n",
    "    reducer = train(models_tied[name], X, y, preprocessor)\n",
    "    reducers[name] = reducer\n",
    "    metrics[name] = reducer.evaluate(X, max_K=100, as_builtin_list=True)\n",
    "json.dump(metrics, open(\"metrics_tied.json\", \"w\"))"
   ]
  },
  {
   "cell_type": "code",
   "execution_count": null,
   "metadata": {},
   "outputs": [],
   "source": [
    "compare_metrics(metrics)"
   ]
  }
 ],
 "metadata": {
  "kernelspec": {
   "display_name": "thesis",
   "language": "python",
   "name": "python3"
  },
  "language_info": {
   "codemirror_mode": {
    "name": "ipython",
    "version": 3
   },
   "file_extension": ".py",
   "mimetype": "text/x-python",
   "name": "python",
   "nbconvert_exporter": "python",
   "pygments_lexer": "ipython3",
   "version": "3.9.13"
  },
  "vscode": {
   "interpreter": {
    "hash": "6be29a84eb79a9d352d976989e4a991481101e9b7f1904e555bef89c75662f39"
   }
  }
 },
 "nbformat": 4,
 "nbformat_minor": 2
}
