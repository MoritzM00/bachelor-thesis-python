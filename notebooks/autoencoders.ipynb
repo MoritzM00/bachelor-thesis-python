{
 "cells": [
  {
   "cell_type": "code",
   "execution_count": null,
   "metadata": {},
   "outputs": [],
   "source": [
    "from drcomp.autoencoder import FullyConnectedAE\n",
    "from drcomp.reducers import AutoEncoder\n",
    "from drcomp.utils.notebooks import get_dataset, get_preprocessor\n",
    "from drcomp.plotting import compare_metrics\n",
    "import torch.nn as nn"
   ]
  },
  {
   "cell_type": "code",
   "execution_count": null,
   "metadata": {},
   "outputs": [],
   "source": [
    "X, y = get_dataset(\"MNIST\", root_dir=\"..\")\n",
    "preprocessor = get_preprocessor(\"MNIST\", root_dir=\"..\")"
   ]
  },
  {
   "cell_type": "code",
   "execution_count": null,
   "metadata": {},
   "outputs": [],
   "source": [
    "input_size = X.shape[1]\n",
    "intrinsic_dim = 10"
   ]
  },
  {
   "cell_type": "code",
   "execution_count": null,
   "metadata": {},
   "outputs": [],
   "source": [
    "models = {\n",
    "    \"Shallow linear AE\": FullyConnectedAE(\n",
    "        input_size=input_size,\n",
    "        intrinsic_dim=intrinsic_dim,\n",
    "        hidden_layer_dims=[],\n",
    "        encoder_act_fn=nn.Identity,\n",
    "    ),\n",
    "    \"Shallow sigmoid AE\": FullyConnectedAE(\n",
    "        input_size=input_size,\n",
    "        intrinsic_dim=intrinsic_dim,\n",
    "        hidden_layer_dims=[],\n",
    "        encoder_act_fn=nn.Sigmoid,\n",
    "        decoder_act_fn=nn.Identity,\n",
    "    ),\n",
    "    \"5-layer linear AE\": FullyConnectedAE(\n",
    "        input_size=input_size,\n",
    "        intrinsic_dim=intrinsic_dim,\n",
    "        hidden_layer_dims=[256],\n",
    "        encoder_act_fn=nn.Identity,\n",
    "    ),\n",
    "    \"7-layer linear AE\": FullyConnectedAE(\n",
    "        input_size=input_size,\n",
    "        intrinsic_dim=intrinsic_dim,\n",
    "        hidden_layer_dims=[256, 128],\n",
    "        encoder_act_fn=nn.Identity,\n",
    "    ),\n",
    "    \"5-layer sigmoid AE\": FullyConnectedAE(\n",
    "        input_size=input_size,\n",
    "        intrinsic_dim=intrinsic_dim,\n",
    "        hidden_layer_dims=[256],\n",
    "        encoder_act_fn=nn.Sigmoid,\n",
    "        decoder_act_fn=nn.Identity,\n",
    "    ),\n",
    "    \"7-layer sigmoid AE\": FullyConnectedAE(\n",
    "        input_size=input_size,\n",
    "        intrinsic_dim=intrinsic_dim,\n",
    "        hidden_layer_dims=[256, 128],\n",
    "        encoder_act_fn=nn.Sigmoid,\n",
    "        decoder_act_fn=nn.Identity,\n",
    "    ),\n",
    "}"
   ]
  },
  {
   "cell_type": "code",
   "execution_count": null,
   "metadata": {},
   "outputs": [],
   "source": [
    "def train(model, X, y, preprocessor):\n",
    "    X_train = preprocessor.transform(X)\n",
    "    reducer = AutoEncoder(model, n_epochs=1000, batch_size=250, lr=1e-3)\n",
    "    reducer.fit(X)\n",
    "    return reducer"
   ]
  },
  {
   "cell_type": "code",
   "execution_count": null,
   "metadata": {},
   "outputs": [],
   "source": [
    "reducers = {}\n",
    "metrics = {}\n",
    "for name in models:\n",
    "    print(f\"Training {name}\")\n",
    "    reducer = train(models[name], X, y, preprocessor)\n",
    "    reducers[name] = reducer\n",
    "    metrics[name] = reducer.evaluate(X, max_K=100)"
   ]
  },
  {
   "cell_type": "code",
   "execution_count": null,
   "metadata": {},
   "outputs": [],
   "source": [
    "compare_metrics(metrics)"
   ]
  }
 ],
 "metadata": {
  "kernelspec": {
   "display_name": "thesis",
   "language": "python",
   "name": "python3"
  },
  "language_info": {
   "codemirror_mode": {
    "name": "ipython",
    "version": 3
   },
   "file_extension": ".py",
   "mimetype": "text/x-python",
   "name": "python",
   "nbconvert_exporter": "python",
   "pygments_lexer": "ipython3",
   "version": "3.9.13"
  },
  "vscode": {
   "interpreter": {
    "hash": "6be29a84eb79a9d352d976989e4a991481101e9b7f1904e555bef89c75662f39"
   }
  }
 },
 "nbformat": 4,
 "nbformat_minor": 2
}
