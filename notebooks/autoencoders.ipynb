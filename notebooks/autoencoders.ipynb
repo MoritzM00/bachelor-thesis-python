{
 "cells": [
  {
   "cell_type": "code",
   "execution_count": null,
   "metadata": {},
   "outputs": [],
   "source": [
    "from drcomp.autoencoder import FullyConnectedAE\n",
    "from drcomp.reducers import AutoEncoder, PCA\n",
    "from drcomp.utils.notebooks import get_dataset, get_preprocessor\n",
    "import torch.nn as nn\n",
    "from skorch.callbacks import EarlyStopping, LRScheduler\n",
    "import torch\n",
    "import numpy as np\n",
    "import matplotlib.pyplot as plt\n",
    "import scienceplots\n",
    "\n",
    "plt.style.use([\"science\", \"scatter\"])"
   ]
  },
  {
   "attachments": {},
   "cell_type": "markdown",
   "metadata": {},
   "source": [
    "## Get the dataset"
   ]
  },
  {
   "cell_type": "code",
   "execution_count": null,
   "metadata": {},
   "outputs": [],
   "source": [
    "X, y = get_dataset(\"MNIST\", root_dir=\"..\")\n",
    "preprocessor = get_preprocessor(\"MNIST\", root_dir=\"..\", from_pretrained=False)"
   ]
  },
  {
   "cell_type": "code",
   "execution_count": null,
   "metadata": {},
   "outputs": [],
   "source": [
    "input_size = X.shape[1]\n",
    "intrinsic_dim = 2"
   ]
  },
  {
   "attachments": {},
   "cell_type": "markdown",
   "metadata": {},
   "source": [
    "## Define Autoencoder Architectures"
   ]
  },
  {
   "cell_type": "code",
   "execution_count": null,
   "metadata": {},
   "outputs": [],
   "source": [
    "hidden_layer_dims = [128]\n",
    "modules = {\n",
    "    \"linear\": FullyConnectedAE(\n",
    "        input_size=input_size,\n",
    "        intrinsic_dim=intrinsic_dim,\n",
    "        hidden_layer_dims=hidden_layer_dims,\n",
    "        encoder_act_fn=nn.Identity,\n",
    "    ),\n",
    "    \"linear-sigmoid\": FullyConnectedAE(\n",
    "        input_size=input_size,\n",
    "        intrinsic_dim=intrinsic_dim,\n",
    "        hidden_layer_dims=hidden_layer_dims,\n",
    "        encoder_act_fn=[nn.Sigmoid, nn.Identity],\n",
    "    ),\n",
    "    \"sigmoid-sigmoid\": FullyConnectedAE(\n",
    "        input_size=input_size,\n",
    "        intrinsic_dim=intrinsic_dim,\n",
    "        hidden_layer_dims=hidden_layer_dims,\n",
    "        encoder_act_fn=nn.Sigmoid,\n",
    "    ),\n",
    "}"
   ]
  },
  {
   "attachments": {},
   "cell_type": "markdown",
   "metadata": {},
   "source": [
    "## Train the autoencoders and PCA"
   ]
  },
  {
   "cell_type": "code",
   "execution_count": null,
   "metadata": {},
   "outputs": [],
   "source": [
    "def train(model, X_train):\n",
    "    lr_scheduler = LRScheduler(policy=\"ExponentialLR\", gamma=0.98)\n",
    "    early_stopping = EarlyStopping(patience=20)\n",
    "    reducer = AutoEncoder(\n",
    "        model,\n",
    "        max_epochs=100,\n",
    "        batch_size=128,\n",
    "        lr=0.01,\n",
    "        callbacks=[lr_scheduler, early_stopping],\n",
    "        device=\"cuda\" if torch.cuda.is_available() else \"cpu\",\n",
    "    )\n",
    "    reducer.fit(X_train)\n",
    "    return reducer"
   ]
  },
  {
   "cell_type": "code",
   "execution_count": null,
   "metadata": {},
   "outputs": [],
   "source": [
    "reducers = {}\n",
    "for name in modules:\n",
    "    print(f\"Training {name}\")\n",
    "    X_train = preprocessor.fit_transform(X)\n",
    "    reducers[name] = train(modules[name], X_train)\n",
    "\n",
    "\n",
    "pca = PCA(intrinsic_dim).fit(preprocessor.transform(X))\n",
    "reducers[\"PCA\"] = pca"
   ]
  },
  {
   "attachments": {},
   "cell_type": "markdown",
   "metadata": {},
   "source": [
    "# Plot the latent spaces"
   ]
  },
  {
   "cell_type": "code",
   "execution_count": null,
   "metadata": {},
   "outputs": [],
   "source": [
    "fig, axs = plt.subplots(2, 2, figsize=(8, 8))\n",
    "for ax, (name, reducer) in zip(axs.flatten(), reducers.items()):\n",
    "    Y = reducer.transform(preprocessor.transform(X))\n",
    "    ax.scatter(Y[:, 0], Y[:, 1], cmap=\"tab10\", c=y, s=1)\n",
    "    ax.set_title(name)\n",
    "plt.legend(handles=axs[0, 0].get_legend_handles_labels()[0], loc=\"best\")\n",
    "plt.show()"
   ]
  },
  {
   "cell_type": "code",
   "execution_count": null,
   "metadata": {},
   "outputs": [],
   "source": []
  }
 ],
 "metadata": {
  "kernelspec": {
   "display_name": "Python 3 (ipykernel)",
   "language": "python",
   "name": "python3"
  },
  "language_info": {
   "codemirror_mode": {
    "name": "ipython",
    "version": 3
   },
   "file_extension": ".py",
   "mimetype": "text/x-python",
   "name": "python",
   "nbconvert_exporter": "python",
   "pygments_lexer": "ipython3",
   "version": "3.9.13"
  },
  "vscode": {
   "interpreter": {
    "hash": "6be29a84eb79a9d352d976989e4a991481101e9b7f1904e555bef89c75662f39"
   }
  }
 },
 "nbformat": 4,
 "nbformat_minor": 2
}
