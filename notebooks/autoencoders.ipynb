{
 "cells": [
  {
   "cell_type": "code",
   "execution_count": null,
   "metadata": {},
   "outputs": [],
   "source": [
    "from drcomp.autoencoder import FullyConnectedAE\n",
    "from drcomp.reducers import AutoEncoder, PCA\n",
    "from drcomp.utils.notebooks import get_dataset, get_preprocessor\n",
    "import torch.nn as nn\n",
    "from skorch.callbacks import EarlyStopping, LRScheduler\n",
    "import torch\n",
    "import numpy as np\n",
    "import matplotlib.pyplot as plt\n",
    "import scienceplots\n",
    "from sklearn.utils import resample\n",
    "\n",
    "plt.style.use([\"science\", \"scatter\"])"
   ]
  },
  {
   "attachments": {},
   "cell_type": "markdown",
   "metadata": {},
   "source": [
    "## Load MNIST"
   ]
  },
  {
   "cell_type": "code",
   "execution_count": null,
   "metadata": {},
   "outputs": [],
   "source": [
    "X, y = get_dataset(\"MNIST\", root_dir=\"..\")\n",
    "preprocessor = get_preprocessor(\"MNIST\", root_dir=\"..\", from_pretrained=False)"
   ]
  },
  {
   "cell_type": "code",
   "execution_count": null,
   "metadata": {},
   "outputs": [],
   "source": [
    "input_size = X.shape[1]\n",
    "intrinsic_dim = 2"
   ]
  },
  {
   "attachments": {},
   "cell_type": "markdown",
   "metadata": {},
   "source": [
    "## Define Autoencoder Architectures"
   ]
  },
  {
   "cell_type": "code",
   "execution_count": null,
   "metadata": {},
   "outputs": [],
   "source": [
    "hidden_layer_dims = []\n",
    "modules = {\n",
    "    \"(b) Linear-Linear\": FullyConnectedAE(\n",
    "        input_size=input_size,\n",
    "        intrinsic_dim=intrinsic_dim,\n",
    "        hidden_layer_dims=hidden_layer_dims,\n",
    "        encoder_act_fn=nn.Identity,\n",
    "        decoder_act_fn=nn.Identity,\n",
    "        include_batch_norm=False,\n",
    "    ),\n",
    "    \"(c) Sigmoid-Linear\": FullyConnectedAE(\n",
    "        input_size=input_size,\n",
    "        intrinsic_dim=intrinsic_dim,\n",
    "        hidden_layer_dims=hidden_layer_dims,\n",
    "        encoder_act_fn=nn.Sigmoid,\n",
    "        decoder_act_fn=nn.Identity,\n",
    "        include_batch_norm=False,\n",
    "    ),\n",
    "    \"(d) Sigmoid-Sigmoid\": FullyConnectedAE(\n",
    "        input_size=input_size,\n",
    "        intrinsic_dim=intrinsic_dim,\n",
    "        hidden_layer_dims=hidden_layer_dims,\n",
    "        encoder_act_fn=nn.Sigmoid,\n",
    "        decoder_act_fn=nn.Sigmoid,\n",
    "        include_batch_norm=False,\n",
    "    ),\n",
    "}"
   ]
  },
  {
   "attachments": {},
   "cell_type": "markdown",
   "metadata": {},
   "source": [
    "## Train the autoencoders and PCA"
   ]
  },
  {
   "cell_type": "code",
   "execution_count": null,
   "metadata": {},
   "outputs": [],
   "source": [
    "def train(model, X_train, **kwargs):\n",
    "    lr_scheduler = LRScheduler(policy=\"ExponentialLR\", gamma=0.9)\n",
    "    early_stopping = EarlyStopping(patience=20)\n",
    "    reducer = AutoEncoder(\n",
    "        model,\n",
    "        max_epochs=100,\n",
    "        batch_size=64,\n",
    "        lr=0.01,\n",
    "        callbacks=[lr_scheduler, early_stopping],\n",
    "        device=\"cuda\" if torch.cuda.is_available() else \"cpu\",\n",
    "        **kwargs\n",
    "    )\n",
    "    reducer.fit(X_train)\n",
    "    return reducer"
   ]
  },
  {
   "cell_type": "code",
   "execution_count": null,
   "metadata": {},
   "outputs": [],
   "source": [
    "pca = PCA(intrinsic_dim).fit(preprocessor.fit_transform(X))\n",
    "reducers = {\"(a) PCA\": pca}\n",
    "\n",
    "for name in modules:\n",
    "    print(f\"Training {name}\")\n",
    "    X_train = preprocessor.fit_transform(X)\n",
    "    reducers[name] = train(modules[name], X_train, weight_decay=1e-6)"
   ]
  },
  {
   "attachments": {},
   "cell_type": "markdown",
   "metadata": {},
   "source": [
    "# Plot the latent spaces"
   ]
  },
  {
   "cell_type": "code",
   "execution_count": null,
   "metadata": {},
   "outputs": [],
   "source": [
    "fig, axs = plt.subplots(2, 2, figsize=(5.7, 4.8))\n",
    "for ax, (name, reducer) in zip(axs.flatten(), reducers.items()):\n",
    "    Y = reducer.transform(preprocessor.transform(X))\n",
    "    Y, y_sampled = resample(Y, y, stratify=y, random_state=0, n_samples=10_000)\n",
    "    scatter = ax.scatter(\n",
    "        Y[:, 0], Y[:, 1], c=y_sampled, s=3, cmap=\"tab10\", alpha=0.9, label=name\n",
    "    )\n",
    "    plt.text(0.5, -0.25, name, fontsize=11, transform=ax.transAxes, ha=\"center\")\n",
    "fig.legend(\n",
    "    *scatter.legend_elements(),\n",
    "    bbox_to_anchor=(0.975, 0.5),\n",
    "    loc=\"center left\",\n",
    "    fontsize=11,\n",
    ")\n",
    "plt.tight_layout()\n",
    "plt.subplots_adjust(wspace=0.25, hspace=0.4)\n",
    "fig.savefig(\"../figures/autoencoders-nonlinearity.pdf\", bbox_inches=\"tight\")\n",
    "plt.show()"
   ]
  },
  {
   "cell_type": "code",
   "execution_count": null,
   "metadata": {},
   "outputs": [],
   "source": []
  }
 ],
 "metadata": {
  "kernelspec": {
   "display_name": "thesis",
   "language": "python",
   "name": "python3"
  },
  "language_info": {
   "codemirror_mode": {
    "name": "ipython",
    "version": 3
   },
   "file_extension": ".py",
   "mimetype": "text/x-python",
   "name": "python",
   "nbconvert_exporter": "python",
   "pygments_lexer": "ipython3",
   "version": "3.9.13"
  },
  "vscode": {
   "interpreter": {
    "hash": "6be29a84eb79a9d352d976989e4a991481101e9b7f1904e555bef89c75662f39"
   }
  }
 },
 "nbformat": 4,
 "nbformat_minor": 2
}
