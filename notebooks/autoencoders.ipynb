{
 "cells": [
  {
   "cell_type": "code",
   "execution_count": null,
   "metadata": {},
   "outputs": [],
   "source": [
    "from drcomp.autoencoder import FullyConnectedAE\n",
    "from drcomp.reducers import AutoEncoder, PCA\n",
    "from drcomp.utils.notebooks import get_dataset, get_preprocessor\n",
    "from drcomp.plotting import compare_metrics\n",
    "import torch.nn as nn\n",
    "from skorch.callbacks import EarlyStopping, LRScheduler\n",
    "import json\n",
    "from sklearn.utils import resample\n",
    "import torch\n",
    "import numpy as np"
   ]
  },
  {
   "cell_type": "code",
   "execution_count": null,
   "metadata": {},
   "outputs": [],
   "source": [
    "X, y = get_dataset(\"MNIST\", root_dir=\".\")\n",
    "preprocessor = get_preprocessor(\"MNIST\", root_dir=\".\", from_pretrained=False)"
   ]
  },
  {
   "cell_type": "code",
   "execution_count": null,
   "metadata": {},
   "outputs": [],
   "source": [
    "input_size = X.shape[1]\n",
    "intrinsic_dim = 10"
   ]
  },
  {
   "cell_type": "code",
   "execution_count": null,
   "metadata": {},
   "outputs": [],
   "source": [
    "modules = {\n",
    "    \"Shallow linear AE\": FullyConnectedAE(\n",
    "        input_size=input_size,\n",
    "        intrinsic_dim=intrinsic_dim,\n",
    "        hidden_layer_dims=[],\n",
    "        encoder_act_fn=nn.Identity,\n",
    "    ),\n",
    "    \"Shallow sigmoid AE\": FullyConnectedAE(\n",
    "        input_size=input_size,\n",
    "        intrinsic_dim=intrinsic_dim,\n",
    "        hidden_layer_dims=[],\n",
    "        encoder_act_fn=nn.Sigmoid,\n",
    "        # decoder_act_fn=nn.Identity,\n",
    "    ),\n",
    "    \"5-layer linear AE\": FullyConnectedAE(\n",
    "        input_size=input_size,\n",
    "        intrinsic_dim=intrinsic_dim,\n",
    "        hidden_layer_dims=[128],\n",
    "        encoder_act_fn=nn.Identity,\n",
    "    ),\n",
    "    \"7-layer linear AE\": FullyConnectedAE(\n",
    "        input_size=input_size,\n",
    "        intrinsic_dim=intrinsic_dim,\n",
    "        hidden_layer_dims=[128, 64],\n",
    "        encoder_act_fn=nn.Identity,\n",
    "    ),\n",
    "    \"5-layer sigmoid AE\": FullyConnectedAE(\n",
    "        input_size=input_size,\n",
    "        intrinsic_dim=intrinsic_dim,\n",
    "        hidden_layer_dims=[128],\n",
    "        encoder_act_fn=nn.Sigmoid,\n",
    "        # decoder_act_fn=nn.Identity,\n",
    "    ),\n",
    "    \"7-layer sigmoid AE\": FullyConnectedAE(\n",
    "        input_size=input_size,\n",
    "        intrinsic_dim=intrinsic_dim,\n",
    "        hidden_layer_dims=[128, 64],\n",
    "        encoder_act_fn=nn.Sigmoid,\n",
    "        # decoder_act_fn=nn.Identity,\n",
    "    ),\n",
    "}"
   ]
  },
  {
   "cell_type": "code",
   "execution_count": null,
   "metadata": {},
   "outputs": [],
   "source": [
    "def train(model, X_train):\n",
    "    lr_scheduler = LRScheduler(policy=\"ExponentialLR\", gamma=0.98)\n",
    "    early_stopping = EarlyStopping(patience=20)\n",
    "    reducer = AutoEncoder(\n",
    "        model,\n",
    "        max_epochs=1000,\n",
    "        batch_size=128,\n",
    "        lr=0.01,\n",
    "        callbacks=[lr_scheduler, early_stopping],\n",
    "        weight_decay=1e-3,\n",
    "        device=\"cuda\" if torch.cuda.is_available() else \"cpu\",\n",
    "    )\n",
    "    reducer.fit(X_train)\n",
    "    return reducer"
   ]
  },
  {
   "cell_type": "code",
   "execution_count": null,
   "metadata": {},
   "outputs": [],
   "source": [
    "reducers = {}\n",
    "metrics = {}\n",
    "for name in modules:\n",
    "    print(f\"Training {name}\")\n",
    "    X_train = preprocessor.fit_transform(X)\n",
    "    reducer = train(modules[name], X_train)\n",
    "    reducers[name] = reducer\n",
    "    X_eval = resample(X_train, n_samples=5000)\n",
    "    metrics[name] = reducer.evaluate(X_eval, max_K=100, as_builtin_list=True)\n",
    "X_train = preprocessor.fit_transform(X)\n",
    "pca = PCA(n_components=10).fit(X_train)\n",
    "metrics_pca = pca.evaluate(\n",
    "    resample(X_train, n_samples=5000), max_K=100, as_builtin_list=True\n",
    ")\n",
    "metrics[\"PCA\"] = metrics_pca\n",
    "reducers[\"PCA\"] = pca\n",
    "json.dump(metrics, open(\"metrics-comp3.json\", \"w\"))"
   ]
  },
  {
   "cell_type": "code",
   "execution_count": null,
   "metadata": {},
   "outputs": [],
   "source": [
    "compare_metrics(metrics)"
   ]
  },
  {
   "cell_type": "code",
   "execution_count": null,
   "metadata": {},
   "outputs": [],
   "source": [
    "from drcomp.plotting import plot_reconstructions"
   ]
  },
  {
   "cell_type": "code",
   "execution_count": null,
   "metadata": {},
   "outputs": [],
   "source": [
    "reducers.keys()"
   ]
  },
  {
   "cell_type": "code",
   "execution_count": null,
   "metadata": {},
   "outputs": [],
   "source": [
    "fig, axs = plot_reconstructions(\n",
    "    reducers,\n",
    "    resample(X, n_samples=10, stratify=y),\n",
    "    preprocessor=preprocessor,\n",
    "    width=28,\n",
    "    height=28,\n",
    "    channels=1,\n",
    ")"
   ]
  },
  {
   "cell_type": "code",
   "execution_count": null,
   "metadata": {},
   "outputs": [],
   "source": [
    "fig.savefig(\"reconstructions-comp3.png\", dpi=300)"
   ]
  },
  {
   "cell_type": "code",
   "execution_count": null,
   "metadata": {},
   "outputs": [],
   "source": []
  }
 ],
 "metadata": {
  "kernelspec": {
   "display_name": "Python 3 (ipykernel)",
   "language": "python",
   "name": "python3"
  },
  "language_info": {
   "codemirror_mode": {
    "name": "ipython",
    "version": 3
   },
   "file_extension": ".py",
   "mimetype": "text/x-python",
   "name": "python",
   "nbconvert_exporter": "python",
   "pygments_lexer": "ipython3",
   "version": "3.9.13"
  },
  "vscode": {
   "interpreter": {
    "hash": "6be29a84eb79a9d352d976989e4a991481101e9b7f1904e555bef89c75662f39"
   }
  }
 },
 "nbformat": 4,
 "nbformat_minor": 2
}
