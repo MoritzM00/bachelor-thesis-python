{
 "cells": [
  {
   "cell_type": "code",
   "execution_count": null,
   "metadata": {},
   "outputs": [],
   "source": [
    "%load_ext autoreload\n",
    "%autoreload 2"
   ]
  },
  {
   "cell_type": "code",
   "execution_count": null,
   "metadata": {},
   "outputs": [],
   "source": [
    "from drcomp.reducers import PCA, AutoEncoder\n",
    "from drcomp.autoencoder import FullyConnectedAE\n",
    "from drcomp.utils.notebooks import get_dataset\n",
    "from sklearn.preprocessing import StandardScaler\n",
    "from sklearn.utils import resample\n",
    "import torch\n",
    "import torch.nn as nn\n",
    "import numpy as np\n",
    "from skorch.callbacks import EarlyStopping, LRScheduler\n",
    "from drcomp.plotting import (\n",
    "    compare_metrics,\n",
    "    plot_reconstructions,\n",
    "    visualize_2D_latent_space,\n",
    ")\n",
    "import matplotlib.pyplot as plt\n",
    "import scienceplots\n",
    "from matplotlib import offsetbox"
   ]
  },
  {
   "cell_type": "code",
   "execution_count": null,
   "metadata": {},
   "outputs": [],
   "source": [
    "X, y = get_dataset(\"MNIST\", root_dir=\"..\")\n",
    "preprocessor = StandardScaler().fit(X)\n",
    "X_train = preprocessor.transform(X)"
   ]
  },
  {
   "cell_type": "code",
   "execution_count": null,
   "metadata": {},
   "outputs": [],
   "source": [
    "intrinsic_dim = 3  # for visualization purposes\n",
    "img_size = height, width, channels = (28, 28, 1)\n",
    "input_size = channels * height * width"
   ]
  },
  {
   "cell_type": "code",
   "execution_count": null,
   "metadata": {},
   "outputs": [],
   "source": [
    "def get_autoencoder(baseClass, lr=0.1, gamma=0.9):\n",
    "    callbacks = [\n",
    "        EarlyStopping(patience=10, monitor=\"valid_loss\"),\n",
    "        LRScheduler(policy=\"ExponentialLR\", gamma=gamma, monitor=\"valid_loss\"),\n",
    "    ]\n",
    "    return AutoEncoder(\n",
    "        AutoEncoderClass=baseClass,\n",
    "        criterion=nn.MSELoss,\n",
    "        optimizer=torch.optim.Adam,\n",
    "        lr=lr,\n",
    "        contractive=False,\n",
    "        callbacks=callbacks,\n",
    "        max_epochs=100,\n",
    "        batch_size=100,\n",
    "        device=\"cuda\" if torch.cuda.is_available() else \"cpu\",\n",
    "    )\n",
    "\n",
    "\n",
    "def get_base_encoder(\n",
    "    encoder_activations,\n",
    "    hidden_layer_dims,\n",
    "    tied_weights: bool = False,\n",
    "    decoder_activations=None,\n",
    "):\n",
    "    return FullyConnectedAE(\n",
    "        input_size=input_size,\n",
    "        intrinsic_dim=intrinsic_dim,\n",
    "        hidden_layer_dims=hidden_layer_dims,\n",
    "        encoder_act_fn=encoder_activations,\n",
    "        decoder_act_fn=decoder_activations,\n",
    "        include_batch_norm=False,\n",
    "        tied_weights=tied_weights,\n",
    "    )"
   ]
  },
  {
   "cell_type": "code",
   "execution_count": null,
   "metadata": {},
   "outputs": [],
   "source": [
    "models = {\n",
    "    \"PCA\": PCA(intrinsic_dim=intrinsic_dim),\n",
    "    \"Linear shallow AE\": get_autoencoder(\n",
    "        get_base_encoder(nn.Identity, [], decoder_activations=nn.Identity)\n",
    "    ),\n",
    "    \"Sigmoid-linear shallow AE\": get_autoencoder(\n",
    "        get_base_encoder(nn.Sigmoid, [], decoder_activations=nn.Identity)\n",
    "    ),\n",
    "    \"Nonlinear shallow AE\": get_autoencoder(get_base_encoder(nn.Sigmoid, [])),\n",
    "}"
   ]
  },
  {
   "cell_type": "code",
   "execution_count": null,
   "metadata": {},
   "outputs": [],
   "source": [
    "# all_metrics = {}\n",
    "embeddings = {}\n",
    "for name, model in models.items():\n",
    "    print(f\"Training {name}\")\n",
    "    embeddings[name] = model.fit_transform(X_train)\n",
    "    # metrics = model.evaluate(X_train, embeddings[name], max_K=100)\n",
    "    # all_metrics[name] = metrics"
   ]
  },
  {
   "cell_type": "code",
   "execution_count": null,
   "metadata": {},
   "outputs": [],
   "source": [
    "def plot_latent_space(embedding, targets, labels, ax=None):\n",
    "    if ax is None:\n",
    "        if embedding.shape[1] == 3:\n",
    "            fig, ax = plt.subplots(figsize=(6, 6), subplot_kw={\"projection\": \"3d\"})\n",
    "        else:\n",
    "            fig, ax = plt.subplots(figsize=(6, 6))\n",
    "    for label in labels:\n",
    "        idx = np.where(targets == label)[0]\n",
    "        if embedding.shape[1] == 3:\n",
    "            ax.scatter(\n",
    "                embedding[idx, 0],\n",
    "                embedding[idx, 1],\n",
    "                embedding[idx, 2],\n",
    "                label=label,\n",
    "                c=targets[idx],\n",
    "                alpha=0.8,\n",
    "            )\n",
    "        else:\n",
    "            ax.scatter(\n",
    "                embedding[idx, 0],\n",
    "                embedding[idx, 1],\n",
    "                c=targets[idx],\n",
    "                label=label,\n",
    "                alpha=0.8,\n",
    "            )\n",
    "    plt.legend()"
   ]
  },
  {
   "cell_type": "code",
   "execution_count": null,
   "metadata": {},
   "outputs": [],
   "source": [
    "plt.style.use([\"science\", \"scatter\"])\n",
    "fig = plt.figure(figsize=(4, 12))\n",
    "labels = np.unique(y)\n",
    "rows = len(models)\n",
    "cols = 1\n",
    "for i, (name, model) in enumerate(models.items()):\n",
    "    ax = fig.add_subplot(rows, cols, i + 1)\n",
    "    Y = model.transform(X_train)\n",
    "    samples, targets = resample(\n",
    "        Y, y, n_samples=5000, stratify=y, random_state=0\n",
    "    )  # for plotting\n",
    "    plot_latent_space(samples, targets, labels, ax=ax)\n",
    "plt.tight_layout()"
   ]
  },
  {
   "cell_type": "code",
   "execution_count": null,
   "metadata": {},
   "outputs": [],
   "source": [
    "# https://scikit-learn.org/stable/auto_examples/manifold/plot_lle_digits.html#sphx-glr-auto-examples-manifold-plot-lle-digits-py\n",
    "def plot_embedding(Y, title):\n",
    "    _, ax = plt.subplots()\n",
    "\n",
    "    for digit in np.unique(y):\n",
    "        ax.scatter(\n",
    "            *Y[y == digit].T,\n",
    "            marker=f\"${digit}$\",\n",
    "            s=60,\n",
    "            color=plt.cm.Dark2(digit),\n",
    "            alpha=0.425,\n",
    "            zorder=2,\n",
    "        )\n",
    "    shown_images = np.array([[1.0, 1.0]])  # just something big\n",
    "    for i in range(Y.shape[0]):\n",
    "        # plot every digit on the embedding\n",
    "        # show an annotation box for a group of digits\n",
    "        dist = np.sum((Y[i] - shown_images) ** 2, 1)\n",
    "        if np.min(dist) < 4e-3:\n",
    "            # don't show points that are too close\n",
    "            continue\n",
    "        shown_images = np.concatenate([shown_images, [Y[i]]], axis=0)\n",
    "        imagebox = offsetbox.AnnotationBbox(\n",
    "            offsetbox.OffsetImage(X[i].reshape(48, 48, 1), cmap=plt.cm.gray_r),\n",
    "            X[i].reshape(48, 48, 1),\n",
    "        )\n",
    "        imagebox.set(zorder=1)\n",
    "        ax.add_artist(imagebox)\n",
    "\n",
    "    ax.set_title(title)\n",
    "    ax.axis(\"off\")"
   ]
  },
  {
   "cell_type": "code",
   "execution_count": null,
   "metadata": {},
   "outputs": [],
   "source": []
  }
 ],
 "metadata": {
  "kernelspec": {
   "display_name": "thesis",
   "language": "python",
   "name": "python3"
  },
  "language_info": {
   "codemirror_mode": {
    "name": "ipython",
    "version": 3
   },
   "file_extension": ".py",
   "mimetype": "text/x-python",
   "name": "python",
   "nbconvert_exporter": "python",
   "pygments_lexer": "ipython3",
   "version": "3.9.13 (main, Oct 10 2022, 16:20:20) \n[Clang 14.0.0 (clang-1400.0.29.102)]"
  },
  "vscode": {
   "interpreter": {
    "hash": "6be29a84eb79a9d352d976989e4a991481101e9b7f1904e555bef89c75662f39"
   }
  }
 },
 "nbformat": 4,
 "nbformat_minor": 2
}
