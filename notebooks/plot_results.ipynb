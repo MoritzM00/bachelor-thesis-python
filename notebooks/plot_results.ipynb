{
 "cells": [
  {
   "cell_type": "code",
   "execution_count": null,
   "metadata": {},
   "outputs": [],
   "source": [
    "%load_ext autoreload\n",
    "%autoreload 2"
   ]
  },
  {
   "cell_type": "code",
   "execution_count": null,
   "metadata": {},
   "outputs": [],
   "source": [
    "from drcomp.plotting import plot_trustworthiness_continuity, plot_lcmc\n",
    "from drcomp.utils.notebooks import get_data_set, get_model_for_dataset\n",
    "import json\n",
    "from typing import Union\n",
    "import matplotlib.pyplot as plt\n",
    "import numpy as np\n",
    "import matplotlib as mpl\n",
    "from matplotlib.ticker import IndexLocator\n",
    "import scienceplots\n",
    "import os\n",
    "\n",
    "plt.style.use([\"science\", \"notebook\"])"
   ]
  },
  {
   "cell_type": "code",
   "execution_count": null,
   "metadata": {},
   "outputs": [],
   "source": [
    "def load_metrics(dataset: str, reducer: str, throw_on_missing: bool = True):\n",
    "    filename = f\"{dataset}_{reducer}.json\"\n",
    "    if not os.path.exists(f\"../metrics/{filename}\"):\n",
    "        raise FileNotFoundError(f\"File {filename} not found in ../metrics/\")\n",
    "    with open(f\"../metrics/{filename}\", \"r\") as f:\n",
    "        return json.load(f)\n",
    "\n",
    "\n",
    "def load_all_metrics_for(\n",
    "    datasets: str,\n",
    "    reducers: list[str] = [\"ConvAE\", \"PCA\", \"KernelPCA\", \"AE\", \"LLE\", \"CAE\"],\n",
    "    throw_on_missing: bool = True,\n",
    "):\n",
    "    metrics: dict[str, dict] = {}\n",
    "    for reducer in reducers:\n",
    "        try:\n",
    "            metric = load_metrics(datasets, reducer)\n",
    "        except FileNotFoundError:\n",
    "            if throw_on_missing:\n",
    "                raise\n",
    "            else:\n",
    "                continue\n",
    "        metrics[reducer] = metric\n",
    "    return metrics"
   ]
  },
  {
   "cell_type": "code",
   "execution_count": null,
   "metadata": {},
   "outputs": [],
   "source": [
    "def plot_metric(metric, label: str, ax=None):\n",
    "    if ax is None:\n",
    "        ax = plt.axes()\n",
    "    k = len(metric)\n",
    "    x = np.arange(1, k + 1)\n",
    "    ax.plot(x, metric, label=label)\n",
    "    ax.set_xlabel(\"$K$\")\n",
    "    ax.set_xlim(0, k + 2)\n",
    "    # ax.set_ylim(0, 1)\n",
    "    ax.xaxis.set_major_locator(IndexLocator(20, offset=-1))\n",
    "    return ax"
   ]
  },
  {
   "cell_type": "code",
   "execution_count": null,
   "metadata": {},
   "outputs": [],
   "source": [
    "def save_fig(dir, fig, name: str, latex: bool = True, width=5.91, height=4.8, **kwargs):\n",
    "    format = \"png\"\n",
    "    backend = None\n",
    "    if latex:\n",
    "        format = \"pgf\"\n",
    "        backend = \"pgf\"\n",
    "        plt.style.use(\"science\")\n",
    "        fig.set_size_inches(w=width, h=height)\n",
    "        fig.tight_layout()\n",
    "    fig.savefig(f\"{dir}/{name}.{format}\", format=format, backend=backend, **kwargs)"
   ]
  },
  {
   "cell_type": "code",
   "execution_count": null,
   "metadata": {},
   "outputs": [],
   "source": [
    "LATEX_WIDTH = 5.91\n",
    "\n",
    "\n",
    "def compare_metrics(metrics: dict, figsize=(8, 8)):\n",
    "    fig = plt.figure(figsize=figsize)\n",
    "    ax1 = plt.subplot(221)\n",
    "    ax2 = plt.subplot(223)\n",
    "    ax3 = plt.subplot(122)\n",
    "    for name, metric in metrics.items():\n",
    "        plot_metric(metric[\"trustworthiness\"], label=name, ax=ax1)\n",
    "        ax1.set_title(\"$T(K)$\")\n",
    "        plot_metric(metric[\"continuity\"], label=name, ax=ax2)\n",
    "        ax2.set_title(\"$C(K)$\")\n",
    "        plot_metric(metric[\"lcmc\"], label=name, ax=ax3)\n",
    "        ax3.set_title(\"$LCMC(K)$\")\n",
    "    plt.legend(metrics.keys())\n",
    "    plt.tight_layout()\n",
    "    return fig, [ax1, ax2, ax3]"
   ]
  },
  {
   "cell_type": "code",
   "execution_count": null,
   "metadata": {},
   "outputs": [],
   "source": [
    "fig, axs = compare_metrics(load_all_metrics_for(\"MNIST\", throw_on_missing=False))"
   ]
  },
  {
   "cell_type": "code",
   "execution_count": null,
   "metadata": {},
   "outputs": [],
   "source": [
    "swiss_roll_fig, _ = compare_metrics(\n",
    "    load_all_metrics_for(\"SwissRoll\", throw_on_missing=False)\n",
    ")"
   ]
  },
  {
   "cell_type": "code",
   "execution_count": null,
   "metadata": {},
   "outputs": [],
   "source": [
    "twin_peaks_fig, _ = compare_metrics(\n",
    "    load_all_metrics_for(\"TwinPeaks\", throw_on_missing=False)\n",
    ")"
   ]
  },
  {
   "cell_type": "code",
   "execution_count": null,
   "metadata": {},
   "outputs": [],
   "source": [
    "compare_metrics(load_all_metrics_for(\"LfwPeople\", throw_on_missing=False))"
   ]
  },
  {
   "cell_type": "code",
   "execution_count": null,
   "metadata": {},
   "outputs": [],
   "source": [
    "def save_fig(dir, fig, name: str, latex: bool = True, width=5.91, height=4.8, **kwargs):\n",
    "    format = \"png\"\n",
    "    backend = None\n",
    "    if latex:\n",
    "        format = \"pgf\"\n",
    "        backend = \"pgf\"\n",
    "        plt.style.use(\"science\")\n",
    "        fig.set_size_inches(w=width, h=height)\n",
    "        fig.tight_layout()\n",
    "    fig.savefig(f\"{dir}/{name}.{format}\", format=format, backend=backend, **kwargs)"
   ]
  },
  {
   "cell_type": "code",
   "execution_count": null,
   "metadata": {},
   "outputs": [],
   "source": [
    "save_fig(\"../figures\", swiss_roll_fig, name=\"SwissRoll-comp\", latex=True, height=6)\n",
    "save_fig(\"../figures\", twin_peaks_fig, name=\"TwinPeaks-comp\", latex=True, height=6)"
   ]
  },
  {
   "cell_type": "code",
   "execution_count": null,
   "metadata": {},
   "outputs": [],
   "source": [
    "save_fig(\"../figures\", fig, name=\"MNIST-comp\", latex=True, height=6)"
   ]
  },
  {
   "cell_type": "code",
   "execution_count": null,
   "metadata": {},
   "outputs": [],
   "source": []
  }
 ],
 "metadata": {
  "kernelspec": {
   "display_name": "thesis",
   "language": "python",
   "name": "python3"
  },
  "language_info": {
   "codemirror_mode": {
    "name": "ipython",
    "version": 3
   },
   "file_extension": ".py",
   "mimetype": "text/x-python",
   "name": "python",
   "nbconvert_exporter": "python",
   "pygments_lexer": "ipython3",
   "version": "3.9.13 (main, Oct 10 2022, 16:20:20) \n[Clang 14.0.0 (clang-1400.0.29.102)]"
  },
  "vscode": {
   "interpreter": {
    "hash": "6be29a84eb79a9d352d976989e4a991481101e9b7f1904e555bef89c75662f39"
   }
  }
 },
 "nbformat": 4,
 "nbformat_minor": 2
}
