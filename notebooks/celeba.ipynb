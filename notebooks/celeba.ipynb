{
 "cells": [
  {
   "cell_type": "code",
   "execution_count": null,
   "metadata": {},
   "outputs": [],
   "source": [
    "from torchvision import datasets, transforms\n",
    "from PIL import Image\n",
    "import matplotlib.pyplot as plt\n",
    "\n",
    "from drcomp.reducers import AutoEncoder\n",
    "from drcomp.autoencoder.base import AbstractAutoEncoder\n",
    "import torch.nn as nn\n",
    "import torch"
   ]
  },
  {
   "cell_type": "code",
   "execution_count": null,
   "metadata": {},
   "outputs": [],
   "source": [
    "celeba = datasets.CelebA(\n",
    "    \"/storage/data\", split=\"all\", download=True, transform=transforms.ToTensor()\n",
    ")"
   ]
  },
  {
   "cell_type": "code",
   "execution_count": null,
   "metadata": {},
   "outputs": [],
   "source": [
    "channels, *image_size = celeba[0][0].shape"
   ]
  },
  {
   "cell_type": "code",
   "execution_count": null,
   "metadata": {},
   "outputs": [],
   "source": [
    "class CustomDataSet(torch.utils.data.Dataset):\n",
    "    def __init__(self, data):\n",
    "        self.data = data\n",
    "\n",
    "    def __len__(self):\n",
    "        return len(self.data)\n",
    "\n",
    "    def __getitem__(self, idx):\n",
    "        x = self.data[idx][0].view(3, 218, 178)\n",
    "        return x, x\n",
    "\n",
    "\n",
    "celeba = CustomDataSet(celeba)"
   ]
  },
  {
   "cell_type": "code",
   "execution_count": null,
   "metadata": {},
   "outputs": [],
   "source": [
    "class CelebaAutoEncoder(AbstractAutoEncoder):\n",
    "    def __init__(self):\n",
    "        super().__init__()\n",
    "        self.encoder = nn.Sequential(\n",
    "            nn.Conv2d(3, 8, 3, stride=3, padding=1),  # 3x218x178 -> 8x73x60\n",
    "            nn.ReLU(),\n",
    "            nn.Flatten(),  # 8x73x60 -> 344800\n",
    "            nn.Linear(8 * 73 * 60, 10),\n",
    "        )\n",
    "        self.decoder = nn.Sequential(\n",
    "            nn.Linear(10, 8 * 73 * 60),\n",
    "            nn.Unflatten(1, (8, 73, 60)),\n",
    "            nn.ConvTranspose2d(8, 3, 3, stride=3, padding=1, output_padding=1),\n",
    "            nn.ReLU(),\n",
    "        )\n",
    "\n",
    "\n",
    "class SimpleAutoEncoder(AbstractAutoEncoder):\n",
    "    def __init__(self):\n",
    "        super().__init__()\n",
    "        self.encoder = nn.Sequential(\n",
    "            nn.Flatten(), nn.Linear(3 * 218 * 178, 10), nn.ReLU()\n",
    "        )\n",
    "        self.decoder = nn.Sequential(\n",
    "            nn.Linear(10, 3 * 218 * 178), nn.ReLU(), nn.Unflatten(1, (3, 218, 178))\n",
    "        )"
   ]
  },
  {
   "cell_type": "code",
   "execution_count": null,
   "metadata": {},
   "outputs": [],
   "source": [
    "ae = AutoEncoder(SimpleAutoEncoder, batch_size=128, max_epochs=2, device=\"cuda\")\n",
    "ae.fit(celeba)"
   ]
  },
  {
   "cell_type": "code",
   "execution_count": null,
   "metadata": {},
   "outputs": [],
   "source": [
    "# saving\n",
    "import pickle\n",
    "\n",
    "with open(\"models/celeba_simple.pkl\", \"wb\") as f:\n",
    "    pickle.dump(ae, f)"
   ]
  },
  {
   "cell_type": "code",
   "execution_count": null,
   "metadata": {},
   "outputs": [],
   "source": []
  }
 ],
 "metadata": {
  "kernelspec": {
   "display_name": "Python 3 (ipykernel)",
   "language": "python",
   "name": "python3"
  },
  "vscode": {
   "interpreter": {
    "hash": "6be29a84eb79a9d352d976989e4a991481101e9b7f1904e555bef89c75662f39"
   }
  }
 },
 "nbformat": 4,
 "nbformat_minor": 2
}
