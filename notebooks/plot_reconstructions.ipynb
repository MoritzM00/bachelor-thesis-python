{
 "cells": [
  {
   "cell_type": "code",
   "execution_count": null,
   "metadata": {},
   "outputs": [],
   "source": [
    "%load_ext autoreload\n",
    "%autoreload 2"
   ]
  },
  {
   "cell_type": "code",
   "execution_count": null,
   "metadata": {},
   "outputs": [],
   "source": [
    "from drcomp.utils.notebooks import get_dataset, get_model_for_dataset, get_preprocessor\n",
    "import matplotlib.pyplot as plt\n",
    "import numpy as np\n",
    "import scienceplots\n",
    "from sklearn.utils import resample\n",
    "\n",
    "plt.style.use([\"science\", \"notebook\"])"
   ]
  },
  {
   "cell_type": "code",
   "execution_count": null,
   "metadata": {},
   "outputs": [],
   "source": [
    "X, _ = get_dataset(\"MNIST\", root_dir=\"..\")\n",
    "preprocessor = get_preprocessor(\"MNIST\", root_dir=\"..\", from_pretrained=True)\n",
    "X = preprocessor.transform(X)\n",
    "model = get_model_for_dataset(\"MNIST\", \"PCA\", root_dir=\"..\", from_pretrained=True)\n",
    "models = {\"PCA\": model}"
   ]
  },
  {
   "cell_type": "code",
   "execution_count": null,
   "metadata": {},
   "outputs": [],
   "source": [
    "n_images = 10"
   ]
  },
  {
   "cell_type": "code",
   "execution_count": null,
   "metadata": {},
   "outputs": [],
   "source": [
    "fig, axs = plt.subplots(len(models) + 1, n_images, figsize=(10, 2))\n",
    "images = resample(X, n_samples=n_images)\n",
    "for i, img in enumerate(images):\n",
    "    ground_truth = preprocessor.inverse_transform(img.reshape(1, -1)).reshape(28, 28)\n",
    "    axs[0, i].imshow(ground_truth, cmap=\"gray\")\n",
    "    axs[0, i].axis(\"off\")\n",
    "    for j, (name, model) in enumerate(models.items(), start=1):\n",
    "        reconstructed = model.reconstruct(img.reshape(1, -1))\n",
    "        reconstructed = preprocessor.inverse_transform(reconstructed).reshape(28, 28)\n",
    "        axs[j, i].imshow(reconstructed, cmap=\"gray\")\n",
    "        axs[j, i].axis(\"off\")\n",
    "        # plt.text(-0.5, 0.5 * j, name, ha=\"center\", va=\"center\", transform=axs[j, 0].transAxes)\n",
    "# plt.text(-0.5, 0.5, \"Ground truth\", ha=\"center\", va=\"center\", transform=axs[0, 0].transAxes)\n",
    "plt.tight_layout()"
   ]
  },
  {
   "cell_type": "code",
   "execution_count": null,
   "metadata": {},
   "outputs": [],
   "source": []
  }
 ],
 "metadata": {
  "kernelspec": {
   "display_name": "thesis",
   "language": "python",
   "name": "python3"
  },
  "language_info": {
   "codemirror_mode": {
    "name": "ipython",
    "version": 3
   },
   "file_extension": ".py",
   "mimetype": "text/x-python",
   "name": "python",
   "nbconvert_exporter": "python",
   "pygments_lexer": "ipython3",
   "version": "3.9.13"
  },
  "vscode": {
   "interpreter": {
    "hash": "6be29a84eb79a9d352d976989e4a991481101e9b7f1904e555bef89c75662f39"
   }
  }
 },
 "nbformat": 4,
 "nbformat_minor": 2
}
