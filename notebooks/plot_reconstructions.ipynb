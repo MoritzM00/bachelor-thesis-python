{
 "cells": [
  {
   "cell_type": "code",
   "execution_count": null,
   "metadata": {},
   "outputs": [],
   "source": [
    "%load_ext autoreload\n",
    "%autoreload 2"
   ]
  },
  {
   "cell_type": "code",
   "execution_count": null,
   "metadata": {},
   "outputs": [],
   "source": [
    "from drcomp.utils.notebooks import get_dataset, get_model_for_dataset, get_preprocessor\n",
    "from drcomp import DimensionalityReducer\n",
    "import matplotlib.pyplot as plt\n",
    "import numpy as np\n",
    "import scienceplots\n",
    "from sklearn.utils import resample\n",
    "\n",
    "plt.style.use([\"science\", \"notebook\"])"
   ]
  },
  {
   "cell_type": "code",
   "execution_count": null,
   "metadata": {},
   "outputs": [],
   "source": [
    "X, _ = get_dataset(\"MNIST\", root_dir=\"..\")\n",
    "preprocessor = get_preprocessor(\"MNIST\", root_dir=\"..\", from_pretrained=True)\n",
    "model = get_model_for_dataset(\"MNIST\", \"PCA\", root_dir=\"..\", from_pretrained=True)\n",
    "models = {\"PCA\": model, \"PCA2\": model}"
   ]
  },
  {
   "cell_type": "code",
   "execution_count": null,
   "metadata": {},
   "outputs": [],
   "source": [
    "n_images = 10"
   ]
  },
  {
   "cell_type": "code",
   "execution_count": null,
   "metadata": {},
   "outputs": [],
   "source": [
    "fig, axs = plt.subplots(len(models) + 1, n_images, figsize=(10, 2))\n",
    "images = resample(X, n_samples=n_images)\n",
    "for i, img in enumerate(images):\n",
    "    ground_truth = preprocessor.inverse_transform(img.reshape(1, -1)).reshape(28, 28)\n",
    "    axs[0, i].imshow(ground_truth, cmap=\"gray\")\n",
    "    axs[0, i].axis(\"off\")\n",
    "    for j, (name, model) in enumerate(models.items(), start=1):\n",
    "        reconstructed = model.reconstruct(img.reshape(1, -1))\n",
    "        reconstructed = preprocessor.inverse_transform(reconstructed).reshape(28, 28)\n",
    "        axs[j, i].imshow(reconstructed, cmap=\"gray\")\n",
    "        axs[j, i].axis(\"off\")\n",
    "        # plt.text(-0.5, 0.5 * j, name, ha=\"center\", va=\"center\", transform=axs[j, 0].transAxes)\n",
    "# plt.text(-0.5, 0.5, \"Ground truth\", ha=\"center\", va=\"center\", transform=axs[0, 0].transAxes)\n",
    "plt.tight_layout()"
   ]
  },
  {
   "cell_type": "code",
   "execution_count": null,
   "metadata": {},
   "outputs": [],
   "source": [
    "def plot_reconstructions(\n",
    "    models: dict[str, DimensionalityReducer],\n",
    "    images,\n",
    "    preprocessor,\n",
    "    width,\n",
    "    height,\n",
    "    channels,\n",
    "    cmap=\"gray\",\n",
    "    flatten=True,\n",
    "):\n",
    "    \"\"\"Plot the reconstructions of the samples by the given models compared to the original image.\"\"\"\n",
    "    n_images = len(images)\n",
    "    fig, axs = plt.subplots(len(models) + 1, n_images, figsize=(10, 2))\n",
    "    flattened_size = width * height * channels\n",
    "    assert np.shape(images) == (n_images, flattened_size)\n",
    "    ground_truth = images.reshape(\n",
    "        -1, width, height, channels\n",
    "    )  # matplotlib expects channels last\n",
    "    processed_images = preprocessor.transform(images)\n",
    "    if not flatten:\n",
    "        X = processed_images.reshape(-1, channels, width, height)\n",
    "    else:\n",
    "        X = processed_images.reshape(-1, flattened_size)\n",
    "    reconstructions = [model.reconstruct(X) for model in models.values()]  # reconstruct\n",
    "    reconstructions = [\n",
    "        preprocessor.inverse_transform(X_hat) for X_hat in reconstructions\n",
    "    ]  # apply inverse transform\n",
    "    reconstructions = [\n",
    "        X_hat.reshape(-1, width, height, channels) for X_hat in reconstructions\n",
    "    ]  # reshape to image size\n",
    "    for i in range(n_images):\n",
    "        axs[0, i].imshow(ground_truth[i], cmap=cmap)\n",
    "        axs[0, i].axis(\"off\")\n",
    "        for j in range(1, len(models)):\n",
    "            axs[j, i].imshow(reconstructions[j - 1][i], cmap=cmap)\n",
    "            axs[j, i].axis(\"off\")\n",
    "    plt.tight_layout()\n",
    "    return fig, axs"
   ]
  },
  {
   "cell_type": "code",
   "execution_count": null,
   "metadata": {},
   "outputs": [],
   "source": [
    "images = resample(X, n_samples=10)\n",
    "fig, axs = plot_reconstructions(\n",
    "    models, images, preprocessor, width=28, height=28, channels=1, flatten=True\n",
    ")"
   ]
  },
  {
   "cell_type": "code",
   "execution_count": null,
   "metadata": {},
   "outputs": [],
   "source": []
  }
 ],
 "metadata": {
  "kernelspec": {
   "display_name": "thesis",
   "language": "python",
   "name": "python3"
  },
  "language_info": {
   "codemirror_mode": {
    "name": "ipython",
    "version": 3
   },
   "file_extension": ".py",
   "mimetype": "text/x-python",
   "name": "python",
   "nbconvert_exporter": "python",
   "pygments_lexer": "ipython3",
   "version": "3.9.13 (main, Oct 10 2022, 16:20:20) \n[Clang 14.0.0 (clang-1400.0.29.102)]"
  },
  "vscode": {
   "interpreter": {
    "hash": "6be29a84eb79a9d352d976989e4a991481101e9b7f1904e555bef89c75662f39"
   }
  }
 },
 "nbformat": 4,
 "nbformat_minor": 2
}
