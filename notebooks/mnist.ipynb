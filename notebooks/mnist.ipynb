{
 "cells": [
  {
   "cell_type": "code",
   "execution_count": null,
   "metadata": {},
   "outputs": [],
   "source": [
    "%load_ext autoreload\n",
    "%autoreload 2"
   ]
  },
  {
   "cell_type": "code",
   "execution_count": null,
   "metadata": {},
   "outputs": [],
   "source": [
    "from drcomp.autoencoder import FullyConnectedAutoencoder, MnistConvolutionalAE\n",
    "from drcomp.reducers import AutoEncoder\n",
    "from drcomp import estimate_intrinsic_dimension\n",
    "\n",
    "from torchvision import datasets, transforms"
   ]
  },
  {
   "cell_type": "code",
   "execution_count": null,
   "metadata": {},
   "outputs": [],
   "source": [
    "mnist_train = datasets.MNIST(\n",
    "    root=\"../data/raw\", download=True, transform=transforms.ToTensor()\n",
    ")\n",
    "mnist_test = datasets.MNIST(\n",
    "    root=\"../data/raw\", download=True, transform=transforms.ToTensor(), train=False\n",
    ")"
   ]
  },
  {
   "cell_type": "code",
   "execution_count": null,
   "metadata": {},
   "outputs": [],
   "source": [
    "X_train = mnist_train.data.numpy().astype(\"float32\")\n",
    "X_train = X_train.reshape(-1, 1, 28, 28)\n",
    "X_test = mnist_test.data.numpy().astype(\"float32\")\n",
    "n_samples = X_train.shape[0]\n",
    "image_size = (28, 28)"
   ]
  },
  {
   "cell_type": "code",
   "execution_count": null,
   "metadata": {},
   "outputs": [],
   "source": [
    "# intrinsic_dim = estimate_intrinsic_dimension(X_train.reshape(n_samples, -1), K=10) # 15\n",
    "intrinsic_dim = 15"
   ]
  },
  {
   "cell_type": "code",
   "execution_count": null,
   "metadata": {},
   "outputs": [],
   "source": [
    "conv_ae = AutoEncoder(\n",
    "    MnistConvolutionalAE(intrinsic_dim), lr=1e-3, max_epochs=10, batch_size=128\n",
    ").fit(\n",
    "    X_train\n",
    ")  # ~3min"
   ]
  },
  {
   "cell_type": "code",
   "execution_count": null,
   "metadata": {},
   "outputs": [],
   "source": [
    "Y = conv_ae.transform(X_train)\n",
    "X_hat = conv_ae.inverse_transform(Y)"
   ]
  },
  {
   "cell_type": "code",
   "execution_count": null,
   "metadata": {},
   "outputs": [],
   "source": [
    "# conv_ae.evaluate(X_train.reshape(n_samples, -1), Y=Y.reshape(-1, intrinsic_dim), K=10) takes ~12min\n",
    "# T = 0.9994"
   ]
  },
  {
   "cell_type": "code",
   "execution_count": null,
   "metadata": {},
   "outputs": [],
   "source": [
    "import matplotlib.pyplot as plt"
   ]
  },
  {
   "cell_type": "code",
   "execution_count": null,
   "metadata": {},
   "outputs": [],
   "source": [
    "original = X_train[0].reshape(image_size)\n",
    "reconstructed = X_hat[0].reshape(image_size)"
   ]
  },
  {
   "cell_type": "code",
   "execution_count": null,
   "metadata": {},
   "outputs": [],
   "source": [
    "fig, (ax1, ax2) = plt.subplots(ncols=2, figsize=(10, 5))\n",
    "ax1.imshow(original, cmap=\"gray\")\n",
    "ax2.imshow(reconstructed, cmap=\"gray\")\n",
    "plt.suptitle(f\"Original vs. Reconstructed by Convolutional AE\")\n",
    "plt.show()"
   ]
  },
  {
   "cell_type": "code",
   "execution_count": null,
   "metadata": {},
   "outputs": [],
   "source": [
    "# TODO: look at the latent space Y with TSNE\n",
    "from sklearn.manifold import TSNE\n",
    "\n",
    "Y_embedded = TSNE(n_components=2).fit_transform(Y)  # takes ~3min"
   ]
  },
  {
   "cell_type": "code",
   "execution_count": null,
   "metadata": {},
   "outputs": [],
   "source": [
    "plt.scatter(Y_embedded[:, 0], Y_embedded[:, 1], c=mnist_train.targets)\n",
    "plt.savefig(\"../figures/mnist_conv_ae_latent_space.png\")\n",
    "plt.show()"
   ]
  },
  {
   "cell_type": "code",
   "execution_count": null,
   "metadata": {},
   "outputs": [],
   "source": []
  }
 ],
 "metadata": {
  "kernelspec": {
   "display_name": "Python 3.9.13 64-bit ('thesis')",
   "language": "python",
   "name": "python3"
  },
  "language_info": {
   "codemirror_mode": {
    "name": "ipython",
    "version": 3
   },
   "file_extension": ".py",
   "mimetype": "text/x-python",
   "name": "python",
   "nbconvert_exporter": "python",
   "pygments_lexer": "ipython3",
   "version": "3.9.13"
  },
  "vscode": {
   "interpreter": {
    "hash": "6be29a84eb79a9d352d976989e4a991481101e9b7f1904e555bef89c75662f39"
   }
  }
 },
 "nbformat": 4,
 "nbformat_minor": 2
}
