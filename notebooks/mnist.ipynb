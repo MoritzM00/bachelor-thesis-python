{
 "cells": [
  {
   "cell_type": "code",
   "execution_count": null,
   "metadata": {},
   "outputs": [],
   "source": [
    "%load_ext autoreload\n",
    "%autoreload 2"
   ]
  },
  {
   "cell_type": "code",
   "execution_count": null,
   "metadata": {},
   "outputs": [],
   "source": [
    "from drcomp.autoencoder import FullyConnectedAE, MnistConvAE\n",
    "from drcomp.reducers import AutoEncoder\n",
    "from drcomp import estimate_intrinsic_dimension\n",
    "import wandb\n",
    "import torch\n",
    "import torch.nn as nn\n",
    "import pickle\n",
    "import numpy as np\n",
    "from torchvision import datasets, transforms\n",
    "from skorch.callbacks import LRScheduler, WandbLogger, EarlyStopping, ProgressBar\n",
    "from torchsummary import summary"
   ]
  },
  {
   "cell_type": "code",
   "execution_count": null,
   "metadata": {},
   "outputs": [],
   "source": [
    "mnist_train = datasets.MNIST(\n",
    "    root=\"/storage/data\", download=True, transform=transforms.ToTensor()\n",
    ")\n",
    "# mnist_test = datasets.MNIST(\n",
    "#    root=\"/storage/data\", download=True, transform=transforms.ToTensor(), train=False\n",
    "# )"
   ]
  },
  {
   "cell_type": "code",
   "execution_count": null,
   "metadata": {},
   "outputs": [],
   "source": [
    "X_train = mnist_train.data.numpy().astype(\"float32\")\n",
    "X_train = X_train.reshape(-1, 1, 28, 28)\n",
    "# X_test = mnist_test.data.numpy().astype(\"float32\")\n",
    "n_samples = X_train.shape[0]\n",
    "image_size = (28, 28)"
   ]
  },
  {
   "cell_type": "code",
   "execution_count": null,
   "metadata": {},
   "outputs": [],
   "source": [
    "# intrinsic_dim = estimate_intrinsic_dimension(X_train.reshape(n_samples, -1), K=10) # 15\n",
    "intrinsic_dim = 16"
   ]
  },
  {
   "cell_type": "code",
   "execution_count": null,
   "metadata": {},
   "outputs": [],
   "source": [
    "config = {\n",
    "    \"max_epochs\": 500,\n",
    "    \"batch_size\": 100,\n",
    "}\n",
    "wandb_run = wandb.init(project=\"drcomp\", group=\"MNIST\", reinit=True, config=config)\n",
    "wandb = WandbLogger(wandb_run)"
   ]
  },
  {
   "cell_type": "code",
   "execution_count": null,
   "metadata": {},
   "outputs": [],
   "source": [
    "lr_schedule = LRScheduler(policy=\"ReduceLROnPlateau\")\n",
    "device = \"cuda\" if torch.cuda.is_available() else \"cpu\"\n",
    "# X_train = X_train.reshape(n_samples, -1)\n",
    "# base = FullyConnectedAE(\n",
    "#     input_size=784,\n",
    "#     hidden_layer_dims=[256],\n",
    "#     intrinsic_dim=intrinsic_dim,\n",
    "#     act_fn=nn.ReLU,\n",
    "# )\n",
    "model = AutoEncoder(\n",
    "    MnistConvAE(intrinsic_dim=intrinsic_dim),\n",
    "    batch_size=config[\"batch_size\"],\n",
    "    max_epochs=config[\"max_epochs\"],\n",
    "    device=device,\n",
    "    callbacks=[\n",
    "        lr_schedule,\n",
    "        WandbLogger(wandb_run),\n",
    "        EarlyStopping(patience=10),\n",
    "        ProgressBar(),\n",
    "    ],\n",
    ")\n",
    "model.initialize()\n",
    "summary(model.module_, (1, 28, 28))"
   ]
  },
  {
   "cell_type": "code",
   "execution_count": null,
   "metadata": {},
   "outputs": [],
   "source": [
    "X_train = torch.from_numpy(X_train).to(device)\n",
    "model.fit(X_train)\n",
    "wandb_run.finish()\n",
    "name = \"mnist_fc_conv_ae\"\n",
    "with open(f\"../models/{name}.pkl\", \"wb\") as f:\n",
    "    pickle.dump(model, f)"
   ]
  },
  {
   "cell_type": "code",
   "execution_count": null,
   "metadata": {},
   "outputs": [],
   "source": [
    "model = pickle.load(open(\"../models/mnist_conv_ae.pkl\", \"rb\"))"
   ]
  },
  {
   "cell_type": "code",
   "execution_count": null,
   "metadata": {},
   "outputs": [],
   "source": [
    "# this model is quite big, so we need to transform it in batches\n",
    "X_hat = np.array([])\n",
    "Y = np.array([])\n",
    "for decoded, encoded in model.forward_iter(X_train):\n",
    "    X_hat = np.append(X_hat, decoded.detach().cpu().numpy())\n",
    "    Y = np.append(Y, encoded.detach().cpu().numpy())"
   ]
  },
  {
   "cell_type": "code",
   "execution_count": null,
   "metadata": {},
   "outputs": [],
   "source": [
    "import matplotlib.pyplot as plt"
   ]
  },
  {
   "cell_type": "code",
   "execution_count": null,
   "metadata": {},
   "outputs": [],
   "source": [
    "X_hat = X_hat.reshape(n_samples, -1)"
   ]
  },
  {
   "cell_type": "code",
   "execution_count": null,
   "metadata": {},
   "outputs": [],
   "source": [
    "n_images = 10\n",
    "for i in range(n_images):\n",
    "    original = X_train[i].reshape(image_size)\n",
    "    reconstructed = X_hat[i].reshape(image_size)\n",
    "    fig, (ax1, ax2) = plt.subplots(ncols=2, figsize=(10, 5))\n",
    "    ax1.imshow(original, cmap=\"gray\")\n",
    "    ax2.imshow(reconstructed, cmap=\"gray\")\n",
    "    plt.suptitle(f\"Original vs. Reconstructed by Convolutional AE\")\n",
    "    plt.show()"
   ]
  },
  {
   "cell_type": "code",
   "execution_count": null,
   "metadata": {},
   "outputs": [],
   "source": [
    "# TODO: look at the latent space Y with TSNE\n",
    "from sklearn.manifold import TSNE\n",
    "\n",
    "Y_embedded = TSNE(n_components=2).fit_transform(Y)  # takes ~3min"
   ]
  },
  {
   "cell_type": "code",
   "execution_count": null,
   "metadata": {},
   "outputs": [],
   "source": [
    "plt.scatter(Y_embedded[:, 0], Y_embedded[:, 1], c=mnist_train.targets)\n",
    "plt.savefig(\"figures/mnist_fc_ae_embedding_visualization.png\")\n",
    "plt.show()"
   ]
  },
  {
   "cell_type": "code",
   "execution_count": null,
   "metadata": {},
   "outputs": [],
   "source": []
  },
  {
   "cell_type": "code",
   "execution_count": null,
   "metadata": {},
   "outputs": [],
   "source": []
  }
 ],
 "metadata": {
  "kernelspec": {
   "display_name": "Python 3 (ipykernel)",
   "language": "python",
   "name": "python3"
  },
  "language_info": {
   "codemirror_mode": {
    "name": "ipython",
    "version": 3
   },
   "file_extension": ".py",
   "mimetype": "text/x-python",
   "name": "python",
   "nbconvert_exporter": "python",
   "pygments_lexer": "ipython3",
   "version": "3.9.13"
  },
  "vscode": {
   "interpreter": {
    "hash": "6be29a84eb79a9d352d976989e4a991481101e9b7f1904e555bef89c75662f39"
   }
  }
 },
 "nbformat": 4,
 "nbformat_minor": 4
}
