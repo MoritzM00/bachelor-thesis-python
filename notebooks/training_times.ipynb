{
 "cells": [
  {
   "cell_type": "code",
   "execution_count": null,
   "metadata": {},
   "outputs": [],
   "source": [
    "import pandas as pd\n",
    "import matplotlib.pyplot as plt\n",
    "import scienceplots\n",
    "\n",
    "plt.style.use(\"science\")"
   ]
  },
  {
   "cell_type": "code",
   "execution_count": null,
   "metadata": {},
   "outputs": [],
   "source": [
    "times = pd.read_csv(\"../metrics/training_times.csv\", header=0, sep=\",\")\n",
    "times.rename(columns={\"Name\": \"reducer\", \"Group\": \"dataset\"}, inplace=True)\n",
    "# times.rename({\"training time (s)\": \"time\"}, axis=1, inplace=True)\n",
    "times.set_index(\"reducer\", inplace=True)\n",
    "multicolumn_index = pd.MultiIndex.from_product([[\"time\"], times[\"dataset\"].unique()])\n",
    "transposed = pd.DataFrame(index=times.index.unique(), columns=multicolumn_index)\n",
    "# times.sort_values(by=[\"reducer\", \"dataset\"], inplace=True)\n",
    "times.head()"
   ]
  },
  {
   "cell_type": "code",
   "execution_count": null,
   "metadata": {},
   "outputs": [],
   "source": [
    "times[times.dataset == \"MNIST\"].loc[\"PCA\", \"training time (s)\"]"
   ]
  },
  {
   "cell_type": "code",
   "execution_count": null,
   "metadata": {},
   "outputs": [],
   "source": [
    "for reducer in times.index.unique():\n",
    "    for dataset in times[\"dataset\"].unique():\n",
    "        try:\n",
    "            value = times[times.dataset == dataset].loc[reducer, \"training time (s)\"]\n",
    "        except KeyError:\n",
    "            value = pd.NA\n",
    "        transposed[\"time\"][dataset].loc[reducer] = value\n",
    "print(transposed)\n",
    "caption = \"Trainierzeiten der Dimensionsreduktionsmethoden auf den Datensätzen\"\n",
    "transposed.to_latex(\n",
    "    \"~/LaTeXProjects/Bachelor-Thesis/training_times.tex\",\n",
    "    na_rep=\"-\",\n",
    "    float_format=lambda x: f\"{x:.2f}\",\n",
    "    decimal=\",\",\n",
    "    caption=caption,\n",
    "    label=\"tab:training_times\",\n",
    ")"
   ]
  },
  {
   "cell_type": "code",
   "execution_count": null,
   "metadata": {},
   "outputs": [],
   "source": [
    "times.groupby(\"reducer\").mean(numeric_only=True).plot.barh(\n",
    "    legend=False,\n",
    "    figsize=(5.91, 4),\n",
    "    xlabel=\"average training time in seconds\",\n",
    "    ylabel=\"\",\n",
    "    color=\"blue\",\n",
    ")"
   ]
  },
  {
   "cell_type": "code",
   "execution_count": null,
   "metadata": {},
   "outputs": [],
   "source": [
    "for dataset, time in times.groupby(\"reducer\"):\n",
    "    print(time.mean())"
   ]
  },
  {
   "cell_type": "code",
   "execution_count": null,
   "metadata": {},
   "outputs": [],
   "source": [
    "# Create a sample dataframe\n",
    "df = pd.DataFrame(\n",
    "    {\n",
    "        \"reducer\": [\"A\", \"A\", \"B\", \"B\"],\n",
    "        \"dataset\": [\"X\", \"Y\", \"X\", \"Y\"],\n",
    "        \"time_seconds\": [1, 2, 3, 4],\n",
    "    }\n",
    ")\n",
    "\n",
    "# Group the dataframe by 'reducer' and 'dataset'\n",
    "grouped = df.groupby(\"reducer\")\n",
    "\n",
    "# Iterate over each group and create a histogram\n",
    "for name, group in grouped:\n",
    "    group.hist(\n",
    "        column=\"time_seconds\",\n",
    "        bins=3,\n",
    "        ax=axs.flat[i],\n",
    "        legend=False,\n",
    "        xlabel=\"training time (s)\",\n",
    "        title=name,\n",
    "    )\n",
    "    plt.title(name)\n",
    "    plt.show()"
   ]
  },
  {
   "cell_type": "code",
   "execution_count": null,
   "metadata": {},
   "outputs": [],
   "source": []
  }
 ],
 "metadata": {
  "kernelspec": {
   "display_name": "thesis",
   "language": "python",
   "name": "python3"
  },
  "language_info": {
   "codemirror_mode": {
    "name": "ipython",
    "version": 3
   },
   "file_extension": ".py",
   "mimetype": "text/x-python",
   "name": "python",
   "nbconvert_exporter": "python",
   "pygments_lexer": "ipython3",
   "version": "3.9.13 (main, Oct 10 2022, 16:20:20) \n[Clang 14.0.0 (clang-1400.0.29.102)]"
  },
  "vscode": {
   "interpreter": {
    "hash": "6be29a84eb79a9d352d976989e4a991481101e9b7f1904e555bef89c75662f39"
   }
  }
 },
 "nbformat": 4,
 "nbformat_minor": 2
}
