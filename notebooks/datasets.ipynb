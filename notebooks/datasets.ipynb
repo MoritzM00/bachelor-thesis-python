{
 "cells": [
  {
   "cell_type": "code",
   "execution_count": null,
   "metadata": {},
   "outputs": [],
   "source": [
    "%load_ext autoreload\n",
    "%autoreload 2"
   ]
  },
  {
   "cell_type": "code",
   "execution_count": null,
   "metadata": {},
   "outputs": [],
   "source": [
    "from drcomp.utils.notebooks import get_dataset\n",
    "import matplotlib.pyplot as plt\n",
    "import numpy as np\n",
    "from sklearn.utils import resample"
   ]
  },
  {
   "cell_type": "code",
   "execution_count": null,
   "metadata": {},
   "outputs": [],
   "source": [
    "# Get the datasets\n",
    "dataset_names = [\n",
    "    \"MNIST\",\n",
    "    \"FER2013\",\n",
    "    \"FashionMNIST\",\n",
    "    \"OlivettiFaces\",\n",
    "]\n",
    "Xys_dict = {name: get_dataset(name, root_dir=\"..\") for name in dataset_names}"
   ]
  },
  {
   "cell_type": "code",
   "execution_count": null,
   "metadata": {},
   "outputs": [],
   "source": [
    "img_sizes = [(28, 28, 1), (48, 48, 1), (28, 28, 1), (64, 64, 1)]"
   ]
  },
  {
   "cell_type": "code",
   "execution_count": null,
   "metadata": {},
   "outputs": [],
   "source": [
    "def plot_dataset_example(\n",
    "    samples, img_size: tuple[int, int, int], axs=None, figsize=(4, 4)\n",
    "):\n",
    "    assert len(samples) == 4\n",
    "    if axs is None:\n",
    "        _, axs = plt.subplots(2, 2, figsize=figsize)\n",
    "    for i, ax in enumerate(axs.flatten()):\n",
    "        ax.imshow(samples[i].reshape(*img_size), cmap=\"gray\")\n",
    "        ax.axis(\"off\")"
   ]
  },
  {
   "cell_type": "code",
   "execution_count": null,
   "metadata": {},
   "outputs": [],
   "source": [
    "plot_names = {\n",
    "    \"MNIST\": \"(a)\",\n",
    "    \"FER2013\": \"(b)\",\n",
    "    \"FashionMNIST\": \"(c)\",\n",
    "    \"OlivettiFaces\": \"(d)\",\n",
    "}"
   ]
  },
  {
   "cell_type": "code",
   "execution_count": null,
   "metadata": {},
   "outputs": [],
   "source": [
    "samples = {\n",
    "    name: resample(Xys[0], stratify=Xys[1], n_samples=4)\n",
    "    for name, Xys in Xys_dict.items()\n",
    "}"
   ]
  },
  {
   "cell_type": "code",
   "execution_count": null,
   "metadata": {},
   "outputs": [],
   "source": [
    "fig, axs = plt.subplots(nrows=4, ncols=4, figsize=(5.91, 4.8))\n",
    "for i, (name, sample) in enumerate(samples.items()):\n",
    "    plot_dataset_example(sample, img_sizes[i], axs.T[i])\n",
    "    plt.text(\n",
    "        0.5,\n",
    "        -0.3,\n",
    "        plot_names[name],\n",
    "        transform=axs.T[i][-1].transAxes,\n",
    "        ha=\"center\",\n",
    "        va=\"center\",\n",
    "        fontsize=11,\n",
    "    )\n",
    "plt.tight_layout()\n",
    "plt.subplots_adjust(wspace=0.1, hspace=0.05, bottom=0.2)\n",
    "plt.savefig(\"../figures/dataset_samples.pdf\", bbox_inches=\"tight\")\n",
    "plt.show()"
   ]
  },
  {
   "cell_type": "code",
   "execution_count": null,
   "metadata": {},
   "outputs": [],
   "source": []
  }
 ],
 "metadata": {
  "kernelspec": {
   "display_name": "thesis",
   "language": "python",
   "name": "python3"
  },
  "language_info": {
   "codemirror_mode": {
    "name": "ipython",
    "version": 3
   },
   "file_extension": ".py",
   "mimetype": "text/x-python",
   "name": "python",
   "nbconvert_exporter": "python",
   "pygments_lexer": "ipython3",
   "version": "3.9.13"
  },
  "vscode": {
   "interpreter": {
    "hash": "6be29a84eb79a9d352d976989e4a991481101e9b7f1904e555bef89c75662f39"
   }
  }
 },
 "nbformat": 4,
 "nbformat_minor": 2
}
