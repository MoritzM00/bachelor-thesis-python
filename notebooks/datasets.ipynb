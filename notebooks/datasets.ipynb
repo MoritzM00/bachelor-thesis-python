{
 "cells": [
  {
   "cell_type": "code",
   "execution_count": null,
   "metadata": {},
   "outputs": [],
   "source": [
    "%load_ext autoreload\n",
    "%autoreload 2"
   ]
  },
  {
   "cell_type": "code",
   "execution_count": null,
   "metadata": {},
   "outputs": [],
   "source": [
    "from drcomp.utils.notebooks import get_dataset\n",
    "import matplotlib.pyplot as plt\n",
    "import numpy as np\n",
    "from sklearn.utils import resample"
   ]
  },
  {
   "cell_type": "code",
   "execution_count": null,
   "metadata": {},
   "outputs": [],
   "source": [
    "# Get the datasets\n",
    "dataset_names = [\"MNIST\", \"FER2013\", \"LfwPeople\", \"OlivettiFaces\"]\n",
    "Xys_dict = {name: get_dataset(name, root_dir=\"..\") for name in dataset_names}"
   ]
  },
  {
   "cell_type": "code",
   "execution_count": null,
   "metadata": {},
   "outputs": [],
   "source": [
    "img_sizes = [(28, 28, 1), (48, 48, 1), (62, 47, 1), (64, 64, 1)]"
   ]
  },
  {
   "cell_type": "code",
   "execution_count": null,
   "metadata": {},
   "outputs": [],
   "source": [
    "def plot_dataset_example(\n",
    "    samples, img_size: tuple[int, int, int], axs=None, figsize=(4, 4)\n",
    "):\n",
    "    assert len(samples) == 4\n",
    "    if axs is None:\n",
    "        _, axs = plt.subplots(2, 2, figsize=figsize)\n",
    "    for i, ax in enumerate(axs.flatten()):\n",
    "        ax.imshow(samples[i].reshape(*img_size), cmap=\"gray\")\n",
    "        ax.axis(\"off\")"
   ]
  },
  {
   "cell_type": "code",
   "execution_count": null,
   "metadata": {},
   "outputs": [],
   "source": [
    "plot_names = {\n",
    "    \"MNIST\": \"MNIST Zahlen\",\n",
    "    \"FER2013\": \"Facial Emotion Recognition\",\n",
    "    \"LfwPeople\": \"Labeled Faces in the Wild\",\n",
    "    \"OlivettiFaces\": \"Olivetti Faces\",\n",
    "}"
   ]
  },
  {
   "cell_type": "code",
   "execution_count": null,
   "metadata": {},
   "outputs": [],
   "source": [
    "import scienceplots\n",
    "from drcomp.plotting import save_fig\n",
    "\n",
    "plt.style.use(\"science\")\n",
    "fig, axs = plt.subplots(2, 2, figsize=(6, 6))\n",
    "for ax, (name, sample) in zip(axs.flatten(), one_sample_each.items()):\n",
    "    ax.imshow(sample, cmap=\"gray\")\n",
    "    ax.axis(\"off\")\n",
    "    ax.set_title(plot_names[name])\n",
    "plt.tight_layout()\n",
    "# plt.show()\n",
    "save_fig(\"../figures\", fig, \"dataset_samples\", latex=True, height=6)"
   ]
  },
  {
   "cell_type": "code",
   "execution_count": null,
   "metadata": {},
   "outputs": [],
   "source": [
    "# plot the weights of three selected models\n",
    "plt.style.use(\"science\")\n",
    "fig = plt.figure(figsize=(5.9, 7))\n",
    "sfigs = fig.subfigures(2, 2)\n",
    "\n",
    "layout = (2, 2)\n",
    "axsTL = sfigs[0, 0].subplots(*layout)\n",
    "axsTR = sfigs[0, 1].subplots(*layout)\n",
    "axsBL = sfigs[1, 0].subplots(*layout)\n",
    "axsBR = sfigs[1, 1].subplots(*layout)\n",
    "axs = [axsTL, axsTR, axsBL, axsBR]\n",
    "\n",
    "for (ax, dataset, img_size) in zip(axs, samples.keys(), img_sizes):\n",
    "    plot_dataset_example(samples[dataset], img_size, ax)\n",
    "    if dataset == \"LfwPeople\":\n",
    "        hspace = 0.1\n",
    "    else:\n",
    "        hspace = 0.05\n",
    "    plt.gcf().subplots_adjust(wspace=0.05, hspace=hspace)\n",
    "\n",
    "sfigs[0, 0].text(0.52, 0.05, \"(a)\", ha=\"center\")\n",
    "sfigs[0, 1].text(0.52, 0.05, \"(b)\", ha=\"center\")\n",
    "sfigs[1, 0].text(0.52, 0.02, \"(c)\", ha=\"center\")\n",
    "sfigs[1, 1].text(0.52, 0.02, \"(d)\", ha=\"center\")\n",
    "plt.tight_layout()\n",
    "plt.subplots_adjust(bottom=0.1, wspace=0.1)\n",
    "fig.savefig(\"../figures/dataset_samples.pgf\", backend=\"pgf\")\n",
    "plt.show()"
   ]
  },
  {
   "cell_type": "code",
   "execution_count": null,
   "metadata": {},
   "outputs": [],
   "source": []
  }
 ],
 "metadata": {
  "kernelspec": {
   "display_name": "thesis",
   "language": "python",
   "name": "python3"
  },
  "language_info": {
   "codemirror_mode": {
    "name": "ipython",
    "version": 3
   },
   "file_extension": ".py",
   "mimetype": "text/x-python",
   "name": "python",
   "nbconvert_exporter": "python",
   "pygments_lexer": "ipython3",
   "version": "3.9.13"
  },
  "vscode": {
   "interpreter": {
    "hash": "6be29a84eb79a9d352d976989e4a991481101e9b7f1904e555bef89c75662f39"
   }
  }
 },
 "nbformat": 4,
 "nbformat_minor": 2
}
