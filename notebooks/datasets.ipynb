{
 "cells": [
  {
   "cell_type": "code",
   "execution_count": null,
   "metadata": {},
   "outputs": [],
   "source": [
    "%load_ext autoreload\n",
    "%autoreload 2"
   ]
  },
  {
   "cell_type": "code",
   "execution_count": null,
   "metadata": {},
   "outputs": [],
   "source": [
    "from drcomp.utils.notebooks import get_dataset\n",
    "import matplotlib.pyplot as plt\n",
    "import numpy as np\n",
    "from sklearn.utils import resample"
   ]
  },
  {
   "cell_type": "code",
   "execution_count": null,
   "metadata": {},
   "outputs": [],
   "source": [
    "# Get the datasets\n",
    "dataset_names = [\"MNIST\", \"FER2013\", \"LfwPeople\", \"OlivettiFaces\"]\n",
    "samples_dict = {\n",
    "    name: resample(get_dataset(name, root_dir=\"..\")[0], n_samples=4)\n",
    "    for name in dataset_names\n",
    "}"
   ]
  },
  {
   "cell_type": "code",
   "execution_count": null,
   "metadata": {},
   "outputs": [],
   "source": [
    "img_sizes = [(28, 28, 1), (48, 48, 1), (62, 47, 1), (64, 64, 1)]"
   ]
  },
  {
   "cell_type": "code",
   "execution_count": null,
   "metadata": {},
   "outputs": [],
   "source": [
    "def plot_dataset_example(\n",
    "    samples, img_size: tuple[int, int, int], axs=None, figsize=(4, 4)\n",
    "):\n",
    "    assert len(samples) == 4\n",
    "    if axs is None:\n",
    "        fig, axs = plt.subplots(2, 2, figsize=figsize)\n",
    "    else:\n",
    "        fig = plt.gcf()\n",
    "    for i, ax in enumerate(axs.flatten()):\n",
    "        ax.imshow(samples[i].reshape(*img_size), cmap=\"gray\")\n",
    "        ax.axis(\"off\")"
   ]
  },
  {
   "cell_type": "code",
   "execution_count": null,
   "metadata": {},
   "outputs": [],
   "source": [
    "def plot_dataset_examples(\n",
    "    samples_dict: dict[str, np.ndarray],\n",
    "    img_sizes: list[tuple[int, int, int]],\n",
    "    figsize=(15, 15),\n",
    "):\n",
    "    fig, axs = plt.subplots(4, 4, figsize=figsize)\n",
    "    for i, (name, samples) in enumerate(samples_dict.items()):\n",
    "        for j in range(4):\n",
    "            axs[j, i].imshow(samples[j].reshape(*img_sizes[i]), cmap=\"gray\")\n",
    "            axs[j, i].axis(\"off\")\n",
    "        axs[0, i].set_title(name)\n",
    "    plt.tight_layout()\n",
    "    plt.show()"
   ]
  },
  {
   "cell_type": "code",
   "execution_count": null,
   "metadata": {},
   "outputs": [],
   "source": [
    "plot_dataset_examples(samples_dict, img_sizes, figsize=(5.9, 10))"
   ]
  },
  {
   "cell_type": "code",
   "execution_count": null,
   "metadata": {},
   "outputs": [],
   "source": [
    "one_sample_each = {\n",
    "    name: resample(samples_dict[name], n_samples=1) for name in dataset_names\n",
    "}\n",
    "one_sample_each = {\n",
    "    name: sample.reshape(*img_sizes[i])\n",
    "    for i, (name, sample) in enumerate(one_sample_each.items())\n",
    "}"
   ]
  },
  {
   "cell_type": "code",
   "execution_count": null,
   "metadata": {},
   "outputs": [],
   "source": [
    "plot_names = {\n",
    "    \"MNIST\": \"MNIST Zahlen\",\n",
    "    \"FER2013\": \"Facial Emotion Recognition\",\n",
    "    \"LfwPeople\": \"Labeled Faces in the Wild\",\n",
    "    \"OlivettiFaces\": \"Olivetti Faces\",\n",
    "}"
   ]
  },
  {
   "cell_type": "code",
   "execution_count": null,
   "metadata": {},
   "outputs": [],
   "source": [
    "import scienceplots\n",
    "from drcomp.plotting import save_fig\n",
    "\n",
    "plt.style.use(\"science\")\n",
    "fig, axs = plt.subplots(2, 2, figsize=(6, 6))\n",
    "for ax, (name, sample) in zip(axs.flatten(), one_sample_each.items()):\n",
    "    ax.imshow(sample, cmap=\"gray\")\n",
    "    ax.axis(\"off\")\n",
    "    ax.set_title(plot_names[name])\n",
    "plt.tight_layout()\n",
    "# plt.show()\n",
    "save_fig(\"../figures\", fig, \"dataset_samples\", latex=True, height=6)"
   ]
  },
  {
   "cell_type": "code",
   "execution_count": null,
   "metadata": {},
   "outputs": [],
   "source": []
  }
 ],
 "metadata": {
  "kernelspec": {
   "display_name": "thesis",
   "language": "python",
   "name": "python3"
  },
  "language_info": {
   "codemirror_mode": {
    "name": "ipython",
    "version": 3
   },
   "file_extension": ".py",
   "mimetype": "text/x-python",
   "name": "python",
   "nbconvert_exporter": "python",
   "pygments_lexer": "ipython3",
   "version": "3.9.13"
  },
  "vscode": {
   "interpreter": {
    "hash": "6be29a84eb79a9d352d976989e4a991481101e9b7f1904e555bef89c75662f39"
   }
  }
 },
 "nbformat": 4,
 "nbformat_minor": 2
}
