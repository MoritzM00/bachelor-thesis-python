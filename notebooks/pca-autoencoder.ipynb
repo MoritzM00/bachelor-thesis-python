{
 "cells": [
  {
   "cell_type": "code",
   "execution_count": null,
   "metadata": {},
   "outputs": [],
   "source": [
    "%load_ext autoreload\n",
    "%autoreload 2"
   ]
  },
  {
   "cell_type": "code",
   "execution_count": null,
   "metadata": {},
   "outputs": [],
   "source": [
    "from drcomp.reducers import PCA, AutoEncoder\n",
    "from drcomp.autoencoder import FullyConnectedAE\n",
    "from drcomp.utils.notebooks import get_dataset\n",
    "from sklearn.preprocessing import StandardScaler\n",
    "from sklearn.utils import resample\n",
    "import torch\n",
    "import torch.nn as nn\n",
    "import numpy as np\n",
    "from skorch.callbacks import EarlyStopping, LRScheduler\n",
    "from drcomp.plotting import (\n",
    "    compare_metrics,\n",
    "    plot_reconstructions,\n",
    "    visualize_2D_latent_space,\n",
    ")\n",
    "import matplotlib.pyplot as plt\n",
    "import scienceplots"
   ]
  },
  {
   "cell_type": "code",
   "execution_count": null,
   "metadata": {},
   "outputs": [],
   "source": [
    "X, y = get_dataset(\"ICMR\", root_dir=\"..\")\n",
    "preprocessor = StandardScaler().fit(X)\n",
    "X_train = preprocessor.transform(X)"
   ]
  },
  {
   "cell_type": "code",
   "execution_count": null,
   "metadata": {},
   "outputs": [],
   "source": [
    "intrinsic_dim = 2  # for visualization purposes\n",
    "# channels, height, width = (1, 62, 47)"
   ]
  },
  {
   "cell_type": "code",
   "execution_count": null,
   "metadata": {},
   "outputs": [],
   "source": [
    "def get_autoencoder(baseClass):\n",
    "    callbacks = [\n",
    "        EarlyStopping(patience=10, monitor=\"valid_loss\"),\n",
    "        LRScheduler(policy=\"ExponentialLR\", gamma=0.9, monitor=\"valid_loss\"),\n",
    "    ]\n",
    "    return AutoEncoder(\n",
    "        AutoEncoderClass=baseClass,\n",
    "        criterion=nn.MSELoss,\n",
    "        optimizer=torch.optim.Adam,\n",
    "        lr=0.1,\n",
    "        contractive=False,\n",
    "        callbacks=callbacks,\n",
    "        max_epochs=100,\n",
    "        batch_size=8,\n",
    "        device=\"cuda\" if torch.cuda.is_available() else \"cpu\",\n",
    "    )\n",
    "\n",
    "\n",
    "def get_base_encoder(activations, hidden_layer_dims, tied_weights: bool = False):\n",
    "    return FullyConnectedAE(\n",
    "        input_size=20531,\n",
    "        intrinsic_dim=intrinsic_dim,\n",
    "        hidden_layer_dims=hidden_layer_dims,\n",
    "        act_fn=activations,\n",
    "        include_batch_norm=False,\n",
    "        tied_weights=tied_weights,\n",
    "    )"
   ]
  },
  {
   "cell_type": "code",
   "execution_count": null,
   "metadata": {},
   "outputs": [],
   "source": [
    "models = {\n",
    "    \"PCA\": PCA(n_components=intrinsic_dim),\n",
    "    \"Linear shallow AE\": get_autoencoder(get_base_encoder(nn.Identity, [])),\n",
    "    \"Linear shallow AE (tied)\": get_autoencoder(\n",
    "        get_base_encoder(nn.Identity, [], tied_weights=True)\n",
    "    ),\n",
    "    \"Linear deep AE\": get_autoencoder(get_base_encoder(nn.Identity, [256])),\n",
    "    \"Nonlinear shallow AE\": get_autoencoder(get_base_encoder(nn.Sigmoid, [])),\n",
    "    \"Nonlinear shallow AE (tied)\": get_autoencoder(\n",
    "        get_base_encoder(nn.Sigmoid, [], tied_weights=True)\n",
    "    ),\n",
    "    \"Nonlinear deep AE\": get_autoencoder(get_base_encoder(nn.Sigmoid, [256])),\n",
    "}"
   ]
  },
  {
   "cell_type": "code",
   "execution_count": null,
   "metadata": {},
   "outputs": [],
   "source": [
    "all_metrics = {}\n",
    "for name, model in models.items():\n",
    "    model.fit(X_train)\n",
    "    Y = model.transform(X_train)\n",
    "    metrics = model.evaluate(X_train, Y, max_K=100)\n",
    "    all_metrics[name] = metrics"
   ]
  },
  {
   "cell_type": "code",
   "execution_count": null,
   "metadata": {},
   "outputs": [],
   "source": [
    "fig, axs = compare_metrics(all_metrics, figsize=(8, 8))\n",
    "plt.show()"
   ]
  },
  {
   "cell_type": "code",
   "execution_count": null,
   "metadata": {},
   "outputs": [],
   "source": [
    "fig, axs = plt.subplots(2, 4, figsize=(20, 5))\n",
    "plt.style.use([\"science\", \"scatter\"])\n",
    "labels = np.unique(y)\n",
    "color_map = {label: i for i, label in enumerate(labels)}\n",
    "colors = [color_map[label] for label in y.reshape(-1)]\n",
    "for i, (ax, (name, model)) in enumerate(zip(axs.flat, models.items())):\n",
    "    Y = model.transform(X_train)\n",
    "    scatter = ax.scatter(Y[:, 0], Y[:, 1], c=colors, alpha=0.8)\n",
    "plt.legend(*scatter.legend_elements(), loc=\"upper right\", title=\"Classes\")\n",
    "plt.tight_layout()"
   ]
  },
  {
   "cell_type": "code",
   "execution_count": null,
   "metadata": {},
   "outputs": [],
   "source": []
  }
 ],
 "metadata": {
  "kernelspec": {
   "display_name": "thesis",
   "language": "python",
   "name": "python3"
  },
  "language_info": {
   "codemirror_mode": {
    "name": "ipython",
    "version": 3
   },
   "file_extension": ".py",
   "mimetype": "text/x-python",
   "name": "python",
   "nbconvert_exporter": "python",
   "pygments_lexer": "ipython3",
   "version": "3.9.13 (main, Oct 10 2022, 16:20:20) \n[Clang 14.0.0 (clang-1400.0.29.102)]"
  },
  "vscode": {
   "interpreter": {
    "hash": "6be29a84eb79a9d352d976989e4a991481101e9b7f1904e555bef89c75662f39"
   }
  }
 },
 "nbformat": 4,
 "nbformat_minor": 2
}
