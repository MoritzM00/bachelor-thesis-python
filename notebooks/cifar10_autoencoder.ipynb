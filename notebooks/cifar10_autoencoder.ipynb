{
 "cells": [
  {
   "cell_type": "code",
   "execution_count": null,
   "metadata": {},
   "outputs": [],
   "source": [
    "%load_ext autoreload\n",
    "%autoreload 2"
   ]
  },
  {
   "cell_type": "code",
   "execution_count": null,
   "metadata": {},
   "outputs": [],
   "source": [
    "import torchvision\n",
    "from torchvision.datasets import CIFAR10\n",
    "from torchvision import transforms\n",
    "\n",
    "import torch\n",
    "import torch.nn as nn\n",
    "import torch.utils.data as data\n",
    "from skorch import NeuralNet\n",
    "from drcomp.reducers import AutoEncoder\n",
    "from drcomp.autoencoder.base import AbstractAutoEncoder\n",
    "import numpy as np\n",
    "from skorch.callbacks import Checkpoint, LRScheduler, ProgressBar, WandbLogger\n",
    "\n",
    "import matplotlib.pyplot as plt"
   ]
  },
  {
   "cell_type": "code",
   "execution_count": null,
   "metadata": {},
   "outputs": [],
   "source": [
    "DATASET_PATH = \"/storage/data\""
   ]
  },
  {
   "cell_type": "code",
   "execution_count": null,
   "metadata": {},
   "outputs": [],
   "source": [
    "train_dataset = CIFAR10(\n",
    "    root=DATASET_PATH, train=True, transform=transforms.ToTensor(), download=True\n",
    ")"
   ]
  },
  {
   "cell_type": "code",
   "execution_count": null,
   "metadata": {},
   "outputs": [],
   "source": [
    "X = train_dataset.data.reshape(-1, 3, 32, 32).astype(np.float32)\n",
    "X.shape"
   ]
  },
  {
   "cell_type": "code",
   "execution_count": null,
   "metadata": {},
   "outputs": [],
   "source": [
    "class CIFAR10_Autoencoder(AbstractAutoEncoder):\n",
    "    def __init__(self):\n",
    "        super().__init__()\n",
    "        self.encoder = nn.Sequential(\n",
    "            nn.Conv2d(3, 16, 3, stride=2, padding=1),  # b, 16, 16, 16\n",
    "            nn.ReLU(),\n",
    "            nn.Conv2d(16, 32, 3, stride=2, padding=1),  # b, 32, 8, 8\n",
    "            nn.ReLU(),\n",
    "            nn.Conv2d(32, 64, 3, stride=2, padding=1),  # b, 64, 4, 4\n",
    "            nn.ReLU(),\n",
    "            nn.Conv2d(64, 128, 3, stride=2, padding=1),  # b, 128, 2, 2\n",
    "            nn.Flatten(),\n",
    "            nn.Linear(128 * 2 * 2, 64),\n",
    "        )\n",
    "        self.decoder = nn.Sequential(\n",
    "            nn.Linear(64, 128 * 2 * 2),\n",
    "            nn.ReLU(),\n",
    "            nn.Unflatten(1, (128, 2, 2)),\n",
    "            nn.ConvTranspose2d(\n",
    "                128, 64, 3, stride=2, padding=1, output_padding=1\n",
    "            ),  # b, 64, 4, 4\n",
    "            nn.ReLU(),\n",
    "            nn.ConvTranspose2d(\n",
    "                64, 32, 3, stride=2, padding=1, output_padding=1\n",
    "            ),  # b, 32, 8, 8\n",
    "            nn.ConvTranspose2d(\n",
    "                32, 16, 3, stride=2, padding=1, output_padding=1\n",
    "            ),  # b, 16, 16, 16\n",
    "            nn.ReLU(),\n",
    "            nn.ConvTranspose2d(\n",
    "                16, 3, 3, stride=2, padding=1, output_padding=1\n",
    "            ),  # b, 3, 32, 32\n",
    "        )"
   ]
  },
  {
   "cell_type": "code",
   "execution_count": null,
   "metadata": {},
   "outputs": [],
   "source": [
    "lr_schedule = LRScheduler(policy=\"ReduceLROnPlateau\")\n",
    "wandb = WandbLogger(project=\"cifar10_autoencoder\", entity=\"drcomp\")\n",
    "\n",
    "\n",
    "model = AutoEncoder(\n",
    "    CIFAR10_Autoencoder,\n",
    "    batch_size=128,\n",
    "    device=\"cuda\",\n",
    "    callbacks=[lr_schedule, ProgressBar()],\n",
    ")\n",
    "print(CIFAR10_Autoencoder())"
   ]
  },
  {
   "cell_type": "code",
   "execution_count": null,
   "metadata": {},
   "outputs": [],
   "source": [
    "model.fit(X)"
   ]
  },
  {
   "cell_type": "code",
   "execution_count": null,
   "metadata": {},
   "outputs": [],
   "source": [
    "import pickle\n",
    "\n",
    "with open(\"models/celeba_simple.pkl\", \"wb\") as f:\n",
    "    pickle.dump(model, f)"
   ]
  },
  {
   "cell_type": "code",
   "execution_count": null,
   "metadata": {},
   "outputs": [],
   "source": [
    "model = pickle.load(open(\"models/celeba_simple.pkl\", \"rb\"))"
   ]
  },
  {
   "cell_type": "code",
   "execution_count": null,
   "metadata": {},
   "outputs": [],
   "source": [
    "Y = model.transform(X)"
   ]
  },
  {
   "cell_type": "code",
   "execution_count": null,
   "metadata": {},
   "outputs": [],
   "source": [
    "X_hat = model.inverse_transform(Y)"
   ]
  },
  {
   "cell_type": "code",
   "execution_count": null,
   "metadata": {},
   "outputs": [],
   "source": []
  }
 ],
 "metadata": {
  "kernelspec": {
   "display_name": "Python 3 (ipykernel)",
   "language": "python",
   "name": "python3"
  },
  "vscode": {
   "interpreter": {
    "hash": "6be29a84eb79a9d352d976989e4a991481101e9b7f1904e555bef89c75662f39"
   }
  }
 },
 "nbformat": 4,
 "nbformat_minor": 2
}
